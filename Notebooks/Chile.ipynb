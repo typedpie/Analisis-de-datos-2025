{
 "cells": [
  {
   "cell_type": "markdown",
   "id": "5b8226ed",
   "metadata": {},
   "source": [
    "Librerias"
   ]
  },
  {
   "cell_type": "code",
   "execution_count": 2,
   "id": "dcd71858",
   "metadata": {},
   "outputs": [],
   "source": [
    "import geopandas as gpd\n",
    "import numpy as np\n",
    "import matplotlib.pyplot as plt\n",
    "from shapely.geometry import point, polygon\n",
    "import rasterio\n",
    "import rasterstats\n",
    "import pandas as pd\n",
    "from rasterstats import zonal_stats\n"
   ]
  },
  {
   "cell_type": "markdown",
   "id": "2d6de7ff",
   "metadata": {},
   "source": [
    "Carga de datos\n",
    "\n"
   ]
  },
  {
   "cell_type": "markdown",
   "id": "4ea39f7d",
   "metadata": {},
   "source": [
    "Limites administrativos\n"
   ]
  },
  {
   "cell_type": "code",
   "execution_count": 3,
   "id": "9731ac28",
   "metadata": {},
   "outputs": [],
   "source": [
    "path = \"../Data/Raw/comunas.shp\"\n",
    "gdf_regional = gpd.read_file(path)\n"
   ]
  },
  {
   "cell_type": "markdown",
   "id": "a62fa200",
   "metadata": {},
   "source": [
    "Aeropuertos"
   ]
  },
  {
   "cell_type": "code",
   "execution_count": 4,
   "id": "e51374f8",
   "metadata": {},
   "outputs": [],
   "source": [
    "path1 = \"../Data/Raw/Aeropuertos.shp\"\n",
    "gdf_aeropuertos = gpd.read_file(path1)\n"
   ]
  },
  {
   "cell_type": "markdown",
   "id": "6c2e9246",
   "metadata": {},
   "source": [
    "Raster\n"
   ]
  },
  {
   "cell_type": "code",
   "execution_count": 5,
   "id": "76050ba6",
   "metadata": {},
   "outputs": [],
   "source": [
    "\n",
    "ruta_raster = (\"../Data/Raw/VNL_npp_2024_global_vcmslcfg_v2_c202502261200.average_masked.dat.tif\")"
   ]
  },
  {
   "cell_type": "markdown",
   "id": "8d54de7c",
   "metadata": {},
   "source": [
    "Datos Censo"
   ]
  },
  {
   "cell_type": "code",
   "execution_count": 6,
   "id": "bba24b70",
   "metadata": {},
   "outputs": [],
   "source": [
    "ruta1 = \"../Data/Raw/D1_Poblacion-censada-por-sexo-y-edad-en-grupos-quinquenales.xlsx\"\n",
    "df_poblacion = pd.read_excel(ruta1, sheet_name = \"2\", skiprows=3)"
   ]
  },
  {
   "cell_type": "code",
   "execution_count": 7,
   "id": "2039a240",
   "metadata": {},
   "outputs": [
    {
     "data": {
      "text/html": [
       "<div>\n",
       "<style scoped>\n",
       "    .dataframe tbody tr th:only-of-type {\n",
       "        vertical-align: middle;\n",
       "    }\n",
       "\n",
       "    .dataframe tbody tr th {\n",
       "        vertical-align: top;\n",
       "    }\n",
       "\n",
       "    .dataframe thead th {\n",
       "        text-align: right;\n",
       "    }\n",
       "</style>\n",
       "<table border=\"1\" class=\"dataframe\">\n",
       "  <thead>\n",
       "    <tr style=\"text-align: right;\">\n",
       "      <th></th>\n",
       "      <th>Código región</th>\n",
       "      <th>Región</th>\n",
       "      <th>Código provincia</th>\n",
       "      <th>Provincia</th>\n",
       "      <th>Código comuna</th>\n",
       "      <th>Comuna</th>\n",
       "      <th>Población censada</th>\n",
       "      <th>Hombres</th>\n",
       "      <th>Mujeres</th>\n",
       "      <th>Razón hombre-mujer</th>\n",
       "    </tr>\n",
       "  </thead>\n",
       "  <tbody>\n",
       "    <tr>\n",
       "      <th>0</th>\n",
       "      <td>0</td>\n",
       "      <td>País</td>\n",
       "      <td>0.0</td>\n",
       "      <td>País</td>\n",
       "      <td>0.0</td>\n",
       "      <td>País</td>\n",
       "      <td>18480432.0</td>\n",
       "      <td>8967033.0</td>\n",
       "      <td>9513399.0</td>\n",
       "      <td>94.3</td>\n",
       "    </tr>\n",
       "    <tr>\n",
       "      <th>1</th>\n",
       "      <td>15</td>\n",
       "      <td>Arica y Parinacota</td>\n",
       "      <td>151.0</td>\n",
       "      <td>Arica</td>\n",
       "      <td>15101.0</td>\n",
       "      <td>Arica</td>\n",
       "      <td>241653.0</td>\n",
       "      <td>118844.0</td>\n",
       "      <td>122809.0</td>\n",
       "      <td>96.8</td>\n",
       "    </tr>\n",
       "  </tbody>\n",
       "</table>\n",
       "</div>"
      ],
      "text/plain": [
       "  Código región              Región  Código provincia Provincia  \\\n",
       "0             0                País               0.0      País   \n",
       "1            15  Arica y Parinacota             151.0     Arica   \n",
       "\n",
       "   Código comuna Comuna  Población censada    Hombres    Mujeres  \\\n",
       "0            0.0   País         18480432.0  8967033.0  9513399.0   \n",
       "1        15101.0  Arica           241653.0   118844.0   122809.0   \n",
       "\n",
       "   Razón hombre-mujer  \n",
       "0                94.3  \n",
       "1                96.8  "
      ]
     },
     "execution_count": 7,
     "metadata": {},
     "output_type": "execute_result"
    }
   ],
   "source": [
    "df_poblacion.head(2)"
   ]
  },
  {
   "cell_type": "markdown",
   "id": "06b6e3e1",
   "metadata": {},
   "source": [
    "#### Procesamiento de datos"
   ]
  },
  {
   "cell_type": "markdown",
   "id": "8dbd7cbe",
   "metadata": {},
   "source": [
    "Armonizacion de CRS"
   ]
  },
  {
   "cell_type": "code",
   "execution_count": 8,
   "id": "2bcb5a57",
   "metadata": {},
   "outputs": [],
   "source": [
    "gdf_regional = gdf_regional.to_crs(\"EPSG:4326\")"
   ]
  },
  {
   "cell_type": "code",
   "execution_count": 9,
   "id": "da336fbb",
   "metadata": {},
   "outputs": [],
   "source": [
    "gdf_aeropuertos = gdf_aeropuertos.to_crs(\"EPSG:4326\")"
   ]
  },
  {
   "cell_type": "markdown",
   "id": "6d4f9a73",
   "metadata": {},
   "source": [
    "Procesamiento de aeropuertos"
   ]
  },
  {
   "cell_type": "code",
   "execution_count": 10,
   "id": "87b6d6a6",
   "metadata": {},
   "outputs": [],
   "source": [
    "gdf_aeropuertos = gdf_aeropuertos[gdf_aeropuertos['categoría'] != 'Aeródromo']"
   ]
  },
  {
   "cell_type": "markdown",
   "id": "0d5979af",
   "metadata": {},
   "source": [
    "Procesamiento de las columnas de region "
   ]
  },
  {
   "cell_type": "code",
   "execution_count": 11,
   "id": "7c797fa9",
   "metadata": {},
   "outputs": [
    {
     "data": {
      "text/html": [
       "<div>\n",
       "<style scoped>\n",
       "    .dataframe tbody tr th:only-of-type {\n",
       "        vertical-align: middle;\n",
       "    }\n",
       "\n",
       "    .dataframe tbody tr th {\n",
       "        vertical-align: top;\n",
       "    }\n",
       "\n",
       "    .dataframe thead th {\n",
       "        text-align: right;\n",
       "    }\n",
       "</style>\n",
       "<table border=\"1\" class=\"dataframe\">\n",
       "  <thead>\n",
       "    <tr style=\"text-align: right;\">\n",
       "      <th></th>\n",
       "      <th>objectid</th>\n",
       "      <th>shape_leng</th>\n",
       "      <th>dis_elec</th>\n",
       "      <th>cir_sena</th>\n",
       "      <th>cod_comuna</th>\n",
       "      <th>codregion</th>\n",
       "      <th>st_area_sh</th>\n",
       "      <th>st_length_</th>\n",
       "      <th>Region</th>\n",
       "      <th>Comuna</th>\n",
       "      <th>Provincia</th>\n",
       "      <th>geometry</th>\n",
       "    </tr>\n",
       "  </thead>\n",
       "  <tbody>\n",
       "    <tr>\n",
       "      <th>0</th>\n",
       "      <td>48</td>\n",
       "      <td>170038.624165</td>\n",
       "      <td>16</td>\n",
       "      <td>8</td>\n",
       "      <td>6204</td>\n",
       "      <td>6</td>\n",
       "      <td>9.685774e+08</td>\n",
       "      <td>206184.271675</td>\n",
       "      <td>Región del Libertador Bernardo O'Higgins</td>\n",
       "      <td>Marchigüe</td>\n",
       "      <td>Cardenal Caro</td>\n",
       "      <td>POLYGON ((-71.80071 -34.20728, -71.79992 -34.2...</td>\n",
       "    </tr>\n",
       "    <tr>\n",
       "      <th>1</th>\n",
       "      <td>29</td>\n",
       "      <td>125730.104795</td>\n",
       "      <td>15</td>\n",
       "      <td>8</td>\n",
       "      <td>6102</td>\n",
       "      <td>6</td>\n",
       "      <td>4.157446e+08</td>\n",
       "      <td>151911.576827</td>\n",
       "      <td>Región del Libertador Bernardo O'Higgins</td>\n",
       "      <td>Codegua</td>\n",
       "      <td>Cachapoal</td>\n",
       "      <td>POLYGON ((-70.35293 -33.95263, -70.35243 -33.9...</td>\n",
       "    </tr>\n",
       "  </tbody>\n",
       "</table>\n",
       "</div>"
      ],
      "text/plain": [
       "   objectid     shape_leng  dis_elec  cir_sena  cod_comuna  codregion  \\\n",
       "0        48  170038.624165        16         8        6204          6   \n",
       "1        29  125730.104795        15         8        6102          6   \n",
       "\n",
       "     st_area_sh     st_length_                                    Region  \\\n",
       "0  9.685774e+08  206184.271675  Región del Libertador Bernardo O'Higgins   \n",
       "1  4.157446e+08  151911.576827  Región del Libertador Bernardo O'Higgins   \n",
       "\n",
       "      Comuna      Provincia                                           geometry  \n",
       "0  Marchigüe  Cardenal Caro  POLYGON ((-71.80071 -34.20728, -71.79992 -34.2...  \n",
       "1    Codegua      Cachapoal  POLYGON ((-70.35293 -33.95263, -70.35243 -33.9...  "
      ]
     },
     "execution_count": 11,
     "metadata": {},
     "output_type": "execute_result"
    }
   ],
   "source": [
    "gdf_regional.head(2)"
   ]
  },
  {
   "cell_type": "code",
   "execution_count": 12,
   "id": "b735fca2",
   "metadata": {},
   "outputs": [
    {
     "data": {
      "text/plain": [
       "array([\"Región del Libertador Bernardo O'Higgins\",\n",
       "       'Región de La Araucanía', 'Región Metropolitana de Santiago',\n",
       "       'Región de Los Lagos', 'Región de Los Ríos', 'Región del Maule',\n",
       "       'Región de Coquimbo', 'Región de Magallanes y Antártica Chilena',\n",
       "       'Zona sin demarcar', 'Región de Valparaíso', 'Región del Bío-Bío',\n",
       "       'Región de Aysén del Gral.Ibañez del Campo', 'Región de Tarapacá',\n",
       "       'Región de Arica y Parinacota', 'Región de Antofagasta',\n",
       "       'Región de Ñuble', 'Región de Atacama'], dtype=object)"
      ]
     },
     "execution_count": 12,
     "metadata": {},
     "output_type": "execute_result"
    }
   ],
   "source": [
    "gdf_regional.Region.unique()"
   ]
  },
  {
   "cell_type": "code",
   "execution_count": 13,
   "id": "81166f80",
   "metadata": {},
   "outputs": [
    {
     "data": {
      "text/html": [
       "<div>\n",
       "<style scoped>\n",
       "    .dataframe tbody tr th:only-of-type {\n",
       "        vertical-align: middle;\n",
       "    }\n",
       "\n",
       "    .dataframe tbody tr th {\n",
       "        vertical-align: top;\n",
       "    }\n",
       "\n",
       "    .dataframe thead th {\n",
       "        text-align: right;\n",
       "    }\n",
       "</style>\n",
       "<table border=\"1\" class=\"dataframe\">\n",
       "  <thead>\n",
       "    <tr style=\"text-align: right;\">\n",
       "      <th></th>\n",
       "      <th>Código región</th>\n",
       "      <th>Región</th>\n",
       "      <th>Código provincia</th>\n",
       "      <th>Provincia</th>\n",
       "      <th>Código comuna</th>\n",
       "      <th>Comuna</th>\n",
       "      <th>Población censada</th>\n",
       "      <th>Hombres</th>\n",
       "      <th>Mujeres</th>\n",
       "      <th>Razón hombre-mujer</th>\n",
       "    </tr>\n",
       "  </thead>\n",
       "  <tbody>\n",
       "    <tr>\n",
       "      <th>0</th>\n",
       "      <td>0</td>\n",
       "      <td>País</td>\n",
       "      <td>0.0</td>\n",
       "      <td>País</td>\n",
       "      <td>0.0</td>\n",
       "      <td>País</td>\n",
       "      <td>18480432.0</td>\n",
       "      <td>8967033.0</td>\n",
       "      <td>9513399.0</td>\n",
       "      <td>94.3</td>\n",
       "    </tr>\n",
       "    <tr>\n",
       "      <th>1</th>\n",
       "      <td>15</td>\n",
       "      <td>Arica y Parinacota</td>\n",
       "      <td>151.0</td>\n",
       "      <td>Arica</td>\n",
       "      <td>15101.0</td>\n",
       "      <td>Arica</td>\n",
       "      <td>241653.0</td>\n",
       "      <td>118844.0</td>\n",
       "      <td>122809.0</td>\n",
       "      <td>96.8</td>\n",
       "    </tr>\n",
       "  </tbody>\n",
       "</table>\n",
       "</div>"
      ],
      "text/plain": [
       "  Código región              Región  Código provincia Provincia  \\\n",
       "0             0                País               0.0      País   \n",
       "1            15  Arica y Parinacota             151.0     Arica   \n",
       "\n",
       "   Código comuna Comuna  Población censada    Hombres    Mujeres  \\\n",
       "0            0.0   País         18480432.0  8967033.0  9513399.0   \n",
       "1        15101.0  Arica           241653.0   118844.0   122809.0   \n",
       "\n",
       "   Razón hombre-mujer  \n",
       "0                94.3  \n",
       "1                96.8  "
      ]
     },
     "execution_count": 13,
     "metadata": {},
     "output_type": "execute_result"
    }
   ],
   "source": [
    "df_poblacion.head(2)"
   ]
  },
  {
   "cell_type": "code",
   "execution_count": 14,
   "id": "e280f4e7",
   "metadata": {},
   "outputs": [
    {
     "data": {
      "text/plain": [
       "array(['País', 'Arica y Parinacota', 'Tarapacá', 'Antofagasta', 'Atacama',\n",
       "       'Coquimbo', 'Valparaíso', 'Metropolitana de Santiago',\n",
       "       \"Libertador General Bernardo O'Higgins\", 'Maule', 'Ñuble',\n",
       "       'Biobío', 'La Araucanía', 'Los Ríos', 'Los Lagos',\n",
       "       'Aysén del General Carlos Ibáñez del Campo',\n",
       "       'Magallanes y de la Antártica Chilena', nan], dtype=object)"
      ]
     },
     "execution_count": 14,
     "metadata": {},
     "output_type": "execute_result"
    }
   ],
   "source": [
    "df_poblacion.Región.unique()"
   ]
  },
  {
   "cell_type": "code",
   "execution_count": 15,
   "id": "7415752a",
   "metadata": {},
   "outputs": [],
   "source": [
    "diccionario_regiones = {\n",
    "    \"Arica y Parinacota\": \"Región de Arica y Parinacota\",\n",
    "    \"Tarapacá\": \"Región de Tarapacá\",\n",
    "    \"Antofagasta\": \"Región de Antofagasta\",\n",
    "    \"Atacama\": \"Región de Atacama\",\n",
    "    \"Coquimbo\": \"Región de Coquimbo\",\n",
    "    \"Valparaíso\": \"Región de Valparaíso\",\n",
    "    \"Metropolitana de Santiago\": \"Región Metropolitana de Santiago\",\n",
    "    \"Libertador General Bernardo O'Higgins\": \"Región del Libertador Bernardo O'Higgins\",\n",
    "    \"Maule\": \"Región del Maule\",\n",
    "    \"Ñuble\": \"Región de Ñuble\",\n",
    "    \"Biobío\": \"Región del Bío-Bío\",\n",
    "    \"La Araucanía\": \"Región de La Araucanía\",\n",
    "    \"Los Ríos\": \"Región de Los Ríos\",\n",
    "    \"Los Lagos\": \"Región de Los Lagos\",\n",
    "    \"Aysén del General Carlos Ibáñez del Campo\": \"Región de Aysén del Gral.Ibañez del Campo\",\n",
    "    \"Magallanes y de la Antártica Chilena\": \"Región de Magallanes y Antártica Chilena\",\n",
    "    \"País\": \"Zona sin demarcar\",\n",
    "    np.nan: \"Zona sin demarcar\"    \n",
    "}\n"
   ]
  },
  {
   "cell_type": "code",
   "execution_count": 16,
   "id": "4b30a7e1",
   "metadata": {},
   "outputs": [],
   "source": [
    "df_poblacion = df_poblacion.replace({\"Región\":diccionario_regiones})"
   ]
  },
  {
   "cell_type": "code",
   "execution_count": 17,
   "id": "8f3b7f34",
   "metadata": {},
   "outputs": [
    {
     "data": {
      "text/html": [
       "<div>\n",
       "<style scoped>\n",
       "    .dataframe tbody tr th:only-of-type {\n",
       "        vertical-align: middle;\n",
       "    }\n",
       "\n",
       "    .dataframe tbody tr th {\n",
       "        vertical-align: top;\n",
       "    }\n",
       "\n",
       "    .dataframe thead th {\n",
       "        text-align: right;\n",
       "    }\n",
       "</style>\n",
       "<table border=\"1\" class=\"dataframe\">\n",
       "  <thead>\n",
       "    <tr style=\"text-align: right;\">\n",
       "      <th></th>\n",
       "      <th>Código región</th>\n",
       "      <th>Región</th>\n",
       "      <th>Código provincia</th>\n",
       "      <th>Provincia</th>\n",
       "      <th>Código comuna</th>\n",
       "      <th>Comuna</th>\n",
       "      <th>Población censada</th>\n",
       "      <th>Hombres</th>\n",
       "      <th>Mujeres</th>\n",
       "      <th>Razón hombre-mujer</th>\n",
       "    </tr>\n",
       "  </thead>\n",
       "  <tbody>\n",
       "    <tr>\n",
       "      <th>0</th>\n",
       "      <td>0</td>\n",
       "      <td>Zona sin demarcar</td>\n",
       "      <td>0.0</td>\n",
       "      <td>País</td>\n",
       "      <td>0.0</td>\n",
       "      <td>País</td>\n",
       "      <td>18480432.0</td>\n",
       "      <td>8967033.0</td>\n",
       "      <td>9513399.0</td>\n",
       "      <td>94.3</td>\n",
       "    </tr>\n",
       "    <tr>\n",
       "      <th>1</th>\n",
       "      <td>15</td>\n",
       "      <td>Región de Arica y Parinacota</td>\n",
       "      <td>151.0</td>\n",
       "      <td>Arica</td>\n",
       "      <td>15101.0</td>\n",
       "      <td>Arica</td>\n",
       "      <td>241653.0</td>\n",
       "      <td>118844.0</td>\n",
       "      <td>122809.0</td>\n",
       "      <td>96.8</td>\n",
       "    </tr>\n",
       "    <tr>\n",
       "      <th>2</th>\n",
       "      <td>15</td>\n",
       "      <td>Región de Arica y Parinacota</td>\n",
       "      <td>151.0</td>\n",
       "      <td>Arica</td>\n",
       "      <td>15102.0</td>\n",
       "      <td>Camarones</td>\n",
       "      <td>861.0</td>\n",
       "      <td>430.0</td>\n",
       "      <td>431.0</td>\n",
       "      <td>99.8</td>\n",
       "    </tr>\n",
       "    <tr>\n",
       "      <th>3</th>\n",
       "      <td>15</td>\n",
       "      <td>Región de Arica y Parinacota</td>\n",
       "      <td>152.0</td>\n",
       "      <td>Parinacota</td>\n",
       "      <td>15201.0</td>\n",
       "      <td>Putre</td>\n",
       "      <td>1547.0</td>\n",
       "      <td>846.0</td>\n",
       "      <td>701.0</td>\n",
       "      <td>120.7</td>\n",
       "    </tr>\n",
       "    <tr>\n",
       "      <th>4</th>\n",
       "      <td>15</td>\n",
       "      <td>Región de Arica y Parinacota</td>\n",
       "      <td>152.0</td>\n",
       "      <td>Parinacota</td>\n",
       "      <td>15202.0</td>\n",
       "      <td>General Lagos</td>\n",
       "      <td>508.0</td>\n",
       "      <td>261.0</td>\n",
       "      <td>247.0</td>\n",
       "      <td>105.7</td>\n",
       "    </tr>\n",
       "    <tr>\n",
       "      <th>...</th>\n",
       "      <td>...</td>\n",
       "      <td>...</td>\n",
       "      <td>...</td>\n",
       "      <td>...</td>\n",
       "      <td>...</td>\n",
       "      <td>...</td>\n",
       "      <td>...</td>\n",
       "      <td>...</td>\n",
       "      <td>...</td>\n",
       "      <td>...</td>\n",
       "    </tr>\n",
       "    <tr>\n",
       "      <th>344</th>\n",
       "      <td>12</td>\n",
       "      <td>Región de Magallanes y Antártica Chilena</td>\n",
       "      <td>123.0</td>\n",
       "      <td>Tierra del Fuego</td>\n",
       "      <td>12303.0</td>\n",
       "      <td>Timaukel</td>\n",
       "      <td>157.0</td>\n",
       "      <td>95.0</td>\n",
       "      <td>62.0</td>\n",
       "      <td>153.2</td>\n",
       "    </tr>\n",
       "    <tr>\n",
       "      <th>345</th>\n",
       "      <td>12</td>\n",
       "      <td>Región de Magallanes y Antártica Chilena</td>\n",
       "      <td>124.0</td>\n",
       "      <td>Última Esperanza</td>\n",
       "      <td>12401.0</td>\n",
       "      <td>Natales</td>\n",
       "      <td>24152.0</td>\n",
       "      <td>12064.0</td>\n",
       "      <td>12088.0</td>\n",
       "      <td>99.8</td>\n",
       "    </tr>\n",
       "    <tr>\n",
       "      <th>346</th>\n",
       "      <td>12</td>\n",
       "      <td>Región de Magallanes y Antártica Chilena</td>\n",
       "      <td>124.0</td>\n",
       "      <td>Última Esperanza</td>\n",
       "      <td>12402.0</td>\n",
       "      <td>Torres del Paine</td>\n",
       "      <td>203.0</td>\n",
       "      <td>118.0</td>\n",
       "      <td>85.0</td>\n",
       "      <td>138.8</td>\n",
       "    </tr>\n",
       "    <tr>\n",
       "      <th>347</th>\n",
       "      <td>NaN</td>\n",
       "      <td>Zona sin demarcar</td>\n",
       "      <td>NaN</td>\n",
       "      <td>NaN</td>\n",
       "      <td>NaN</td>\n",
       "      <td>NaN</td>\n",
       "      <td>NaN</td>\n",
       "      <td>NaN</td>\n",
       "      <td>NaN</td>\n",
       "      <td>NaN</td>\n",
       "    </tr>\n",
       "    <tr>\n",
       "      <th>348</th>\n",
       "      <td>Fuente: Censo de Población y Vivienda 2024 - I...</td>\n",
       "      <td>Zona sin demarcar</td>\n",
       "      <td>NaN</td>\n",
       "      <td>NaN</td>\n",
       "      <td>NaN</td>\n",
       "      <td>NaN</td>\n",
       "      <td>NaN</td>\n",
       "      <td>NaN</td>\n",
       "      <td>NaN</td>\n",
       "      <td>NaN</td>\n",
       "    </tr>\n",
       "  </tbody>\n",
       "</table>\n",
       "<p>349 rows × 10 columns</p>\n",
       "</div>"
      ],
      "text/plain": [
       "                                         Código región  \\\n",
       "0                                                    0   \n",
       "1                                                   15   \n",
       "2                                                   15   \n",
       "3                                                   15   \n",
       "4                                                   15   \n",
       "..                                                 ...   \n",
       "344                                                 12   \n",
       "345                                                 12   \n",
       "346                                                 12   \n",
       "347                                                NaN   \n",
       "348  Fuente: Censo de Población y Vivienda 2024 - I...   \n",
       "\n",
       "                                       Región  Código provincia  \\\n",
       "0                           Zona sin demarcar               0.0   \n",
       "1                Región de Arica y Parinacota             151.0   \n",
       "2                Región de Arica y Parinacota             151.0   \n",
       "3                Región de Arica y Parinacota             152.0   \n",
       "4                Región de Arica y Parinacota             152.0   \n",
       "..                                        ...               ...   \n",
       "344  Región de Magallanes y Antártica Chilena             123.0   \n",
       "345  Región de Magallanes y Antártica Chilena             124.0   \n",
       "346  Región de Magallanes y Antártica Chilena             124.0   \n",
       "347                         Zona sin demarcar               NaN   \n",
       "348                         Zona sin demarcar               NaN   \n",
       "\n",
       "            Provincia  Código comuna            Comuna  Población censada  \\\n",
       "0                País            0.0              País         18480432.0   \n",
       "1               Arica        15101.0             Arica           241653.0   \n",
       "2               Arica        15102.0         Camarones              861.0   \n",
       "3          Parinacota        15201.0             Putre             1547.0   \n",
       "4          Parinacota        15202.0     General Lagos              508.0   \n",
       "..                ...            ...               ...                ...   \n",
       "344  Tierra del Fuego        12303.0          Timaukel              157.0   \n",
       "345  Última Esperanza        12401.0           Natales            24152.0   \n",
       "346  Última Esperanza        12402.0  Torres del Paine              203.0   \n",
       "347               NaN            NaN               NaN                NaN   \n",
       "348               NaN            NaN               NaN                NaN   \n",
       "\n",
       "       Hombres    Mujeres  Razón hombre-mujer  \n",
       "0    8967033.0  9513399.0                94.3  \n",
       "1     118844.0   122809.0                96.8  \n",
       "2        430.0      431.0                99.8  \n",
       "3        846.0      701.0               120.7  \n",
       "4        261.0      247.0               105.7  \n",
       "..         ...        ...                 ...  \n",
       "344       95.0       62.0               153.2  \n",
       "345    12064.0    12088.0                99.8  \n",
       "346      118.0       85.0               138.8  \n",
       "347        NaN        NaN                 NaN  \n",
       "348        NaN        NaN                 NaN  \n",
       "\n",
       "[349 rows x 10 columns]"
      ]
     },
     "execution_count": 17,
     "metadata": {},
     "output_type": "execute_result"
    }
   ],
   "source": [
    "df_poblacion"
   ]
  },
  {
   "cell_type": "code",
   "execution_count": 18,
   "id": "e158e4b2",
   "metadata": {},
   "outputs": [],
   "source": [
    "gdf_regional = gdf_regional[gdf_regional['Region'] != 'Zona sin demarcar']"
   ]
  },
  {
   "cell_type": "code",
   "execution_count": 19,
   "id": "d45ea511",
   "metadata": {},
   "outputs": [],
   "source": [
    "df_poblacion = df_poblacion[df_poblacion['Región'] != 'Zona sin demarcar']"
   ]
  },
  {
   "cell_type": "code",
   "execution_count": 20,
   "id": "355808a5",
   "metadata": {},
   "outputs": [
    {
     "data": {
      "text/plain": [
       "array(['Región de Arica y Parinacota', 'Región de Tarapacá',\n",
       "       'Región de Antofagasta', 'Región de Atacama', 'Región de Coquimbo',\n",
       "       'Región de Valparaíso', 'Región Metropolitana de Santiago',\n",
       "       \"Región del Libertador Bernardo O'Higgins\", 'Región del Maule',\n",
       "       'Región de Ñuble', 'Región del Bío-Bío', 'Región de La Araucanía',\n",
       "       'Región de Los Ríos', 'Región de Los Lagos',\n",
       "       'Región de Aysén del Gral.Ibañez del Campo',\n",
       "       'Región de Magallanes y Antártica Chilena'], dtype=object)"
      ]
     },
     "execution_count": 20,
     "metadata": {},
     "output_type": "execute_result"
    }
   ],
   "source": [
    "df_poblacion.Región.unique()"
   ]
  },
  {
   "cell_type": "code",
   "execution_count": 21,
   "id": "d8b53625",
   "metadata": {},
   "outputs": [
    {
     "data": {
      "text/plain": [
       "array([\"Región del Libertador Bernardo O'Higgins\",\n",
       "       'Región de La Araucanía', 'Región Metropolitana de Santiago',\n",
       "       'Región de Los Lagos', 'Región de Los Ríos', 'Región del Maule',\n",
       "       'Región de Coquimbo', 'Región de Magallanes y Antártica Chilena',\n",
       "       'Región de Valparaíso', 'Región del Bío-Bío',\n",
       "       'Región de Aysén del Gral.Ibañez del Campo', 'Región de Tarapacá',\n",
       "       'Región de Arica y Parinacota', 'Región de Antofagasta',\n",
       "       'Región de Ñuble', 'Región de Atacama'], dtype=object)"
      ]
     },
     "execution_count": 21,
     "metadata": {},
     "output_type": "execute_result"
    }
   ],
   "source": [
    "gdf_regional.Region.unique()"
   ]
  },
  {
   "cell_type": "markdown",
   "id": "9001b006",
   "metadata": {},
   "source": [
    "Filtrar columnas relevantes"
   ]
  },
  {
   "cell_type": "code",
   "execution_count": 22,
   "id": "1b35560a",
   "metadata": {},
   "outputs": [],
   "source": [
    "gdf_regional =gdf_regional[['Region','Comuna','geometry']]\n",
    "df_poblacion =df_poblacion[['Región','Comuna','Población censada']]"
   ]
  },
  {
   "cell_type": "code",
   "execution_count": 23,
   "id": "7b24b920",
   "metadata": {},
   "outputs": [
    {
     "data": {
      "text/html": [
       "<div>\n",
       "<style scoped>\n",
       "    .dataframe tbody tr th:only-of-type {\n",
       "        vertical-align: middle;\n",
       "    }\n",
       "\n",
       "    .dataframe tbody tr th {\n",
       "        vertical-align: top;\n",
       "    }\n",
       "\n",
       "    .dataframe thead th {\n",
       "        text-align: right;\n",
       "    }\n",
       "</style>\n",
       "<table border=\"1\" class=\"dataframe\">\n",
       "  <thead>\n",
       "    <tr style=\"text-align: right;\">\n",
       "      <th></th>\n",
       "      <th>Region</th>\n",
       "      <th>Comuna</th>\n",
       "      <th>geometry</th>\n",
       "    </tr>\n",
       "  </thead>\n",
       "  <tbody>\n",
       "    <tr>\n",
       "      <th>0</th>\n",
       "      <td>Región del Libertador Bernardo O'Higgins</td>\n",
       "      <td>Marchigüe</td>\n",
       "      <td>POLYGON ((-71.80071 -34.20728, -71.79992 -34.2...</td>\n",
       "    </tr>\n",
       "    <tr>\n",
       "      <th>1</th>\n",
       "      <td>Región del Libertador Bernardo O'Higgins</td>\n",
       "      <td>Codegua</td>\n",
       "      <td>POLYGON ((-70.35293 -33.95263, -70.35243 -33.9...</td>\n",
       "    </tr>\n",
       "  </tbody>\n",
       "</table>\n",
       "</div>"
      ],
      "text/plain": [
       "                                     Region     Comuna  \\\n",
       "0  Región del Libertador Bernardo O'Higgins  Marchigüe   \n",
       "1  Región del Libertador Bernardo O'Higgins    Codegua   \n",
       "\n",
       "                                            geometry  \n",
       "0  POLYGON ((-71.80071 -34.20728, -71.79992 -34.2...  \n",
       "1  POLYGON ((-70.35293 -33.95263, -70.35243 -33.9...  "
      ]
     },
     "execution_count": 23,
     "metadata": {},
     "output_type": "execute_result"
    }
   ],
   "source": [
    "gdf_regional.head(2)"
   ]
  },
  {
   "cell_type": "code",
   "execution_count": 24,
   "id": "9987c120",
   "metadata": {},
   "outputs": [
    {
     "data": {
      "text/html": [
       "<div>\n",
       "<style scoped>\n",
       "    .dataframe tbody tr th:only-of-type {\n",
       "        vertical-align: middle;\n",
       "    }\n",
       "\n",
       "    .dataframe tbody tr th {\n",
       "        vertical-align: top;\n",
       "    }\n",
       "\n",
       "    .dataframe thead th {\n",
       "        text-align: right;\n",
       "    }\n",
       "</style>\n",
       "<table border=\"1\" class=\"dataframe\">\n",
       "  <thead>\n",
       "    <tr style=\"text-align: right;\">\n",
       "      <th></th>\n",
       "      <th>Región</th>\n",
       "      <th>Comuna</th>\n",
       "      <th>Población censada</th>\n",
       "    </tr>\n",
       "  </thead>\n",
       "  <tbody>\n",
       "    <tr>\n",
       "      <th>1</th>\n",
       "      <td>Región de Arica y Parinacota</td>\n",
       "      <td>Arica</td>\n",
       "      <td>241653.0</td>\n",
       "    </tr>\n",
       "    <tr>\n",
       "      <th>2</th>\n",
       "      <td>Región de Arica y Parinacota</td>\n",
       "      <td>Camarones</td>\n",
       "      <td>861.0</td>\n",
       "    </tr>\n",
       "  </tbody>\n",
       "</table>\n",
       "</div>"
      ],
      "text/plain": [
       "                         Región     Comuna  Población censada\n",
       "1  Región de Arica y Parinacota      Arica           241653.0\n",
       "2  Región de Arica y Parinacota  Camarones              861.0"
      ]
     },
     "execution_count": 24,
     "metadata": {},
     "output_type": "execute_result"
    }
   ],
   "source": [
    "df_poblacion.head(2)"
   ]
  },
  {
   "cell_type": "markdown",
   "id": "d31c018c",
   "metadata": {},
   "source": [
    "Procesamiento de comuna"
   ]
  },
  {
   "cell_type": "code",
   "execution_count": 25,
   "id": "abb22721",
   "metadata": {},
   "outputs": [
    {
     "data": {
      "text/plain": [
       "(345, 3)"
      ]
     },
     "execution_count": 25,
     "metadata": {},
     "output_type": "execute_result"
    }
   ],
   "source": [
    "gdf_regional.shape"
   ]
  },
  {
   "cell_type": "code",
   "execution_count": 26,
   "id": "ca868756",
   "metadata": {},
   "outputs": [
    {
     "data": {
      "text/plain": [
       "(346, 3)"
      ]
     },
     "execution_count": 26,
     "metadata": {},
     "output_type": "execute_result"
    }
   ],
   "source": [
    "df_poblacion.shape"
   ]
  },
  {
   "cell_type": "markdown",
   "id": "8911ec62",
   "metadata": {},
   "source": [
    "Comparacion de Arrays numpy"
   ]
  },
  {
   "cell_type": "code",
   "execution_count": 27,
   "id": "20de6fdf",
   "metadata": {},
   "outputs": [],
   "source": [
    "arr1 = np.setdiff1d(gdf_regional.Comuna.unique(), df_poblacion.Comuna.unique())\n",
    "arr2 = np.setdiff1d(df_poblacion.Comuna.unique(), gdf_regional.Comuna.unique())"
   ]
  },
  {
   "cell_type": "code",
   "execution_count": 28,
   "id": "633419ca",
   "metadata": {},
   "outputs": [
    {
     "data": {
      "text/plain": [
       "array(['Los Alamos', 'Los Angeles', 'Marchigüe', 'Paihuano', 'Ranquil',\n",
       "       'San Pedro de la Paz', 'Treguaco'], dtype=object)"
      ]
     },
     "execution_count": 28,
     "metadata": {},
     "output_type": "execute_result"
    }
   ],
   "source": [
    "arr1"
   ]
  },
  {
   "cell_type": "code",
   "execution_count": 29,
   "id": "19922013",
   "metadata": {},
   "outputs": [
    {
     "data": {
      "text/plain": [
       "array(['Antártica', 'Los Álamos', 'Los Ángeles', 'Marchihue', 'Paiguano',\n",
       "       'Ránquil', 'San Pedro de La paz', 'Trehuaco'], dtype=object)"
      ]
     },
     "execution_count": 29,
     "metadata": {},
     "output_type": "execute_result"
    }
   ],
   "source": [
    "arr2"
   ]
  },
  {
   "cell_type": "markdown",
   "id": "c5224ab2",
   "metadata": {},
   "source": [
    "Eliminamos la Antartica"
   ]
  },
  {
   "cell_type": "code",
   "execution_count": 30,
   "id": "3e38c51c",
   "metadata": {},
   "outputs": [],
   "source": [
    "df_poblacion =  df_poblacion[df_poblacion['Comuna'] != 'Antártica']"
   ]
  },
  {
   "cell_type": "markdown",
   "id": "b38a2239",
   "metadata": {},
   "source": [
    "Solucionar los nombres de las comunas"
   ]
  },
  {
   "cell_type": "code",
   "execution_count": 31,
   "id": "609239b6",
   "metadata": {},
   "outputs": [],
   "source": [
    "diccionario_comunas = {\n",
    "    'Los Álamos': 'Los Alamos',\n",
    "    'Los Ángeles': 'Los Angeles',\n",
    "    'Marchihue': 'Marchigüe',\n",
    "    'Paiguano': 'Paihuano',\n",
    "    'Ránquil': 'Ranquil',\n",
    "    'San Pedro de La paz': 'San Pedro de la Paz',\n",
    "    'Trehuaco': 'Treguaco'\n",
    "}"
   ]
  },
  {
   "cell_type": "code",
   "execution_count": 32,
   "id": "2a9dced5",
   "metadata": {},
   "outputs": [],
   "source": [
    "df_poblacion = df_poblacion.replace({\"Comuna\": diccionario_comunas})"
   ]
  },
  {
   "cell_type": "code",
   "execution_count": 33,
   "id": "1e60a05e",
   "metadata": {},
   "outputs": [
    {
     "data": {
      "text/html": [
       "<div>\n",
       "<style scoped>\n",
       "    .dataframe tbody tr th:only-of-type {\n",
       "        vertical-align: middle;\n",
       "    }\n",
       "\n",
       "    .dataframe tbody tr th {\n",
       "        vertical-align: top;\n",
       "    }\n",
       "\n",
       "    .dataframe thead th {\n",
       "        text-align: right;\n",
       "    }\n",
       "</style>\n",
       "<table border=\"1\" class=\"dataframe\">\n",
       "  <thead>\n",
       "    <tr style=\"text-align: right;\">\n",
       "      <th></th>\n",
       "      <th>Región</th>\n",
       "      <th>Comuna</th>\n",
       "      <th>Población censada</th>\n",
       "    </tr>\n",
       "  </thead>\n",
       "  <tbody>\n",
       "    <tr>\n",
       "      <th>1</th>\n",
       "      <td>Región de Arica y Parinacota</td>\n",
       "      <td>Arica</td>\n",
       "      <td>241653.0</td>\n",
       "    </tr>\n",
       "    <tr>\n",
       "      <th>2</th>\n",
       "      <td>Región de Arica y Parinacota</td>\n",
       "      <td>Camarones</td>\n",
       "      <td>861.0</td>\n",
       "    </tr>\n",
       "    <tr>\n",
       "      <th>3</th>\n",
       "      <td>Región de Arica y Parinacota</td>\n",
       "      <td>Putre</td>\n",
       "      <td>1547.0</td>\n",
       "    </tr>\n",
       "    <tr>\n",
       "      <th>4</th>\n",
       "      <td>Región de Arica y Parinacota</td>\n",
       "      <td>General Lagos</td>\n",
       "      <td>508.0</td>\n",
       "    </tr>\n",
       "    <tr>\n",
       "      <th>5</th>\n",
       "      <td>Región de Tarapacá</td>\n",
       "      <td>Iquique</td>\n",
       "      <td>199587.0</td>\n",
       "    </tr>\n",
       "    <tr>\n",
       "      <th>...</th>\n",
       "      <td>...</td>\n",
       "      <td>...</td>\n",
       "      <td>...</td>\n",
       "    </tr>\n",
       "    <tr>\n",
       "      <th>342</th>\n",
       "      <td>Región de Magallanes y Antártica Chilena</td>\n",
       "      <td>Porvenir</td>\n",
       "      <td>6809.0</td>\n",
       "    </tr>\n",
       "    <tr>\n",
       "      <th>343</th>\n",
       "      <td>Región de Magallanes y Antártica Chilena</td>\n",
       "      <td>Primavera</td>\n",
       "      <td>431.0</td>\n",
       "    </tr>\n",
       "    <tr>\n",
       "      <th>344</th>\n",
       "      <td>Región de Magallanes y Antártica Chilena</td>\n",
       "      <td>Timaukel</td>\n",
       "      <td>157.0</td>\n",
       "    </tr>\n",
       "    <tr>\n",
       "      <th>345</th>\n",
       "      <td>Región de Magallanes y Antártica Chilena</td>\n",
       "      <td>Natales</td>\n",
       "      <td>24152.0</td>\n",
       "    </tr>\n",
       "    <tr>\n",
       "      <th>346</th>\n",
       "      <td>Región de Magallanes y Antártica Chilena</td>\n",
       "      <td>Torres del Paine</td>\n",
       "      <td>203.0</td>\n",
       "    </tr>\n",
       "  </tbody>\n",
       "</table>\n",
       "<p>345 rows × 3 columns</p>\n",
       "</div>"
      ],
      "text/plain": [
       "                                       Región            Comuna  \\\n",
       "1                Región de Arica y Parinacota             Arica   \n",
       "2                Región de Arica y Parinacota         Camarones   \n",
       "3                Región de Arica y Parinacota             Putre   \n",
       "4                Región de Arica y Parinacota     General Lagos   \n",
       "5                          Región de Tarapacá           Iquique   \n",
       "..                                        ...               ...   \n",
       "342  Región de Magallanes y Antártica Chilena          Porvenir   \n",
       "343  Región de Magallanes y Antártica Chilena         Primavera   \n",
       "344  Región de Magallanes y Antártica Chilena          Timaukel   \n",
       "345  Región de Magallanes y Antártica Chilena           Natales   \n",
       "346  Región de Magallanes y Antártica Chilena  Torres del Paine   \n",
       "\n",
       "     Población censada  \n",
       "1             241653.0  \n",
       "2                861.0  \n",
       "3               1547.0  \n",
       "4                508.0  \n",
       "5             199587.0  \n",
       "..                 ...  \n",
       "342             6809.0  \n",
       "343              431.0  \n",
       "344              157.0  \n",
       "345            24152.0  \n",
       "346              203.0  \n",
       "\n",
       "[345 rows x 3 columns]"
      ]
     },
     "execution_count": 33,
     "metadata": {},
     "output_type": "execute_result"
    }
   ],
   "source": [
    "df_poblacion"
   ]
  },
  {
   "cell_type": "markdown",
   "id": "c67d5701",
   "metadata": {},
   "source": [
    "Geodataframe poblacional a partir de un merge"
   ]
  },
  {
   "cell_type": "code",
   "execution_count": 34,
   "id": "b93a8a26",
   "metadata": {},
   "outputs": [],
   "source": [
    "gdf_poblacion = gdf_regional.merge(df_poblacion, left_on = 'Comuna', right_on= 'Comuna', how= 'left').drop(columns= ['Región'])"
   ]
  },
  {
   "cell_type": "code",
   "execution_count": 35,
   "id": "052a1c00",
   "metadata": {},
   "outputs": [
    {
     "data": {
      "text/html": [
       "<div>\n",
       "<style scoped>\n",
       "    .dataframe tbody tr th:only-of-type {\n",
       "        vertical-align: middle;\n",
       "    }\n",
       "\n",
       "    .dataframe tbody tr th {\n",
       "        vertical-align: top;\n",
       "    }\n",
       "\n",
       "    .dataframe thead th {\n",
       "        text-align: right;\n",
       "    }\n",
       "</style>\n",
       "<table border=\"1\" class=\"dataframe\">\n",
       "  <thead>\n",
       "    <tr style=\"text-align: right;\">\n",
       "      <th></th>\n",
       "      <th>Region</th>\n",
       "      <th>Comuna</th>\n",
       "      <th>geometry</th>\n",
       "      <th>Población censada</th>\n",
       "    </tr>\n",
       "  </thead>\n",
       "  <tbody>\n",
       "    <tr>\n",
       "      <th>0</th>\n",
       "      <td>Región del Libertador Bernardo O'Higgins</td>\n",
       "      <td>Marchigüe</td>\n",
       "      <td>POLYGON ((-71.80071 -34.20728, -71.79992 -34.2...</td>\n",
       "      <td>8715.0</td>\n",
       "    </tr>\n",
       "    <tr>\n",
       "      <th>1</th>\n",
       "      <td>Región del Libertador Bernardo O'Higgins</td>\n",
       "      <td>Codegua</td>\n",
       "      <td>POLYGON ((-70.35293 -33.95263, -70.35243 -33.9...</td>\n",
       "      <td>13955.0</td>\n",
       "    </tr>\n",
       "    <tr>\n",
       "      <th>2</th>\n",
       "      <td>Región del Libertador Bernardo O'Higgins</td>\n",
       "      <td>Coinco</td>\n",
       "      <td>POLYGON ((-70.90058 -34.23703, -70.90063 -34.2...</td>\n",
       "      <td>7916.0</td>\n",
       "    </tr>\n",
       "    <tr>\n",
       "      <th>3</th>\n",
       "      <td>Región del Libertador Bernardo O'Higgins</td>\n",
       "      <td>Coltauco</td>\n",
       "      <td>POLYGON ((-71.02492 -34.17053, -71.0232 -34.17...</td>\n",
       "      <td>21373.0</td>\n",
       "    </tr>\n",
       "    <tr>\n",
       "      <th>4</th>\n",
       "      <td>Región de La Araucanía</td>\n",
       "      <td>Cholchol</td>\n",
       "      <td>POLYGON ((-72.95898 -38.46877, -72.95797 -38.4...</td>\n",
       "      <td>13167.0</td>\n",
       "    </tr>\n",
       "    <tr>\n",
       "      <th>...</th>\n",
       "      <td>...</td>\n",
       "      <td>...</td>\n",
       "      <td>...</td>\n",
       "      <td>...</td>\n",
       "    </tr>\n",
       "    <tr>\n",
       "      <th>340</th>\n",
       "      <td>Región de Ñuble</td>\n",
       "      <td>San Nicolás</td>\n",
       "      <td>POLYGON ((-72.24207 -36.35227, -72.24014 -36.3...</td>\n",
       "      <td>15099.0</td>\n",
       "    </tr>\n",
       "    <tr>\n",
       "      <th>341</th>\n",
       "      <td>Región de Ñuble</td>\n",
       "      <td>San Fabián</td>\n",
       "      <td>POLYGON ((-71.24834 -36.45596, -71.24827 -36.4...</td>\n",
       "      <td>5245.0</td>\n",
       "    </tr>\n",
       "    <tr>\n",
       "      <th>342</th>\n",
       "      <td>Región de Ñuble</td>\n",
       "      <td>Ñiquén</td>\n",
       "      <td>POLYGON ((-72.09907 -36.13712, -72.09819 -36.1...</td>\n",
       "      <td>12797.0</td>\n",
       "    </tr>\n",
       "    <tr>\n",
       "      <th>343</th>\n",
       "      <td>Región de Ñuble</td>\n",
       "      <td>El Carmen</td>\n",
       "      <td>POLYGON ((-71.74229 -36.82882, -71.74224 -36.8...</td>\n",
       "      <td>13186.0</td>\n",
       "    </tr>\n",
       "    <tr>\n",
       "      <th>344</th>\n",
       "      <td>Región de Ñuble</td>\n",
       "      <td>Coihueco</td>\n",
       "      <td>POLYGON ((-71.21478 -36.97323, -71.21519 -36.9...</td>\n",
       "      <td>29766.0</td>\n",
       "    </tr>\n",
       "  </tbody>\n",
       "</table>\n",
       "<p>345 rows × 4 columns</p>\n",
       "</div>"
      ],
      "text/plain": [
       "                                       Region       Comuna  \\\n",
       "0    Región del Libertador Bernardo O'Higgins    Marchigüe   \n",
       "1    Región del Libertador Bernardo O'Higgins      Codegua   \n",
       "2    Región del Libertador Bernardo O'Higgins       Coinco   \n",
       "3    Región del Libertador Bernardo O'Higgins     Coltauco   \n",
       "4                      Región de La Araucanía     Cholchol   \n",
       "..                                        ...          ...   \n",
       "340                           Región de Ñuble  San Nicolás   \n",
       "341                           Región de Ñuble   San Fabián   \n",
       "342                           Región de Ñuble       Ñiquén   \n",
       "343                           Región de Ñuble    El Carmen   \n",
       "344                           Región de Ñuble     Coihueco   \n",
       "\n",
       "                                              geometry  Población censada  \n",
       "0    POLYGON ((-71.80071 -34.20728, -71.79992 -34.2...             8715.0  \n",
       "1    POLYGON ((-70.35293 -33.95263, -70.35243 -33.9...            13955.0  \n",
       "2    POLYGON ((-70.90058 -34.23703, -70.90063 -34.2...             7916.0  \n",
       "3    POLYGON ((-71.02492 -34.17053, -71.0232 -34.17...            21373.0  \n",
       "4    POLYGON ((-72.95898 -38.46877, -72.95797 -38.4...            13167.0  \n",
       "..                                                 ...                ...  \n",
       "340  POLYGON ((-72.24207 -36.35227, -72.24014 -36.3...            15099.0  \n",
       "341  POLYGON ((-71.24834 -36.45596, -71.24827 -36.4...             5245.0  \n",
       "342  POLYGON ((-72.09907 -36.13712, -72.09819 -36.1...            12797.0  \n",
       "343  POLYGON ((-71.74229 -36.82882, -71.74224 -36.8...            13186.0  \n",
       "344  POLYGON ((-71.21478 -36.97323, -71.21519 -36.9...            29766.0  \n",
       "\n",
       "[345 rows x 4 columns]"
      ]
     },
     "execution_count": 35,
     "metadata": {},
     "output_type": "execute_result"
    }
   ],
   "source": [
    "gdf_poblacion"
   ]
  },
  {
   "cell_type": "markdown",
   "id": "d7c7f986",
   "metadata": {},
   "source": [
    "Manejo del raster"
   ]
  },
  {
   "cell_type": "code",
   "execution_count": 36,
   "id": "90b4549c",
   "metadata": {},
   "outputs": [
    {
     "name": "stderr",
     "output_type": "stream",
     "text": [
      "c:\\Users\\marcel gonzalez\\OneDrive\\Desktop\\Analisis de datos 2025\\.venv\\Lib\\site-packages\\rasterstats\\io.py:335: NodataWarning: Setting nodata to -999; specify nodata explicitly\n",
      "  warnings.warn(\n"
     ]
    }
   ],
   "source": [
    "brillo_promedio = zonal_stats(gdf_poblacion, ruta_raster, stats = ['mean'])"
   ]
  },
  {
   "cell_type": "code",
   "execution_count": 37,
   "id": "01dd3b08",
   "metadata": {},
   "outputs": [],
   "source": [
    "brillo_total = zonal_stats(gdf_poblacion, ruta_raster, stats = ['sum'])"
   ]
  },
  {
   "cell_type": "code",
   "execution_count": 38,
   "id": "31719697",
   "metadata": {},
   "outputs": [],
   "source": [
    "gdf_poblacion['brillo_promedio'] = [stat['mean'] for stat in brillo_promedio]"
   ]
  },
  {
   "cell_type": "code",
   "execution_count": 39,
   "id": "428a0e7c",
   "metadata": {},
   "outputs": [],
   "source": [
    "gdf_poblacion['brillo_total'] = [stat['sum'] for stat in brillo_total]"
   ]
  },
  {
   "cell_type": "code",
   "execution_count": 40,
   "id": "9b586ccd",
   "metadata": {},
   "outputs": [
    {
     "data": {
      "text/html": [
       "<div>\n",
       "<style scoped>\n",
       "    .dataframe tbody tr th:only-of-type {\n",
       "        vertical-align: middle;\n",
       "    }\n",
       "\n",
       "    .dataframe tbody tr th {\n",
       "        vertical-align: top;\n",
       "    }\n",
       "\n",
       "    .dataframe thead th {\n",
       "        text-align: right;\n",
       "    }\n",
       "</style>\n",
       "<table border=\"1\" class=\"dataframe\">\n",
       "  <thead>\n",
       "    <tr style=\"text-align: right;\">\n",
       "      <th></th>\n",
       "      <th>Region</th>\n",
       "      <th>Comuna</th>\n",
       "      <th>geometry</th>\n",
       "      <th>Población censada</th>\n",
       "      <th>brillo_promedio</th>\n",
       "      <th>brillo_total</th>\n",
       "    </tr>\n",
       "  </thead>\n",
       "  <tbody>\n",
       "    <tr>\n",
       "      <th>0</th>\n",
       "      <td>Región del Libertador Bernardo O'Higgins</td>\n",
       "      <td>Marchigüe</td>\n",
       "      <td>POLYGON ((-71.80071 -34.20728, -71.79992 -34.2...</td>\n",
       "      <td>8715.0</td>\n",
       "      <td>0.334509</td>\n",
       "      <td>1242.367920</td>\n",
       "    </tr>\n",
       "    <tr>\n",
       "      <th>1</th>\n",
       "      <td>Región del Libertador Bernardo O'Higgins</td>\n",
       "      <td>Codegua</td>\n",
       "      <td>POLYGON ((-70.35293 -33.95263, -70.35243 -33.9...</td>\n",
       "      <td>13955.0</td>\n",
       "      <td>1.253766</td>\n",
       "      <td>2009.787598</td>\n",
       "    </tr>\n",
       "    <tr>\n",
       "      <th>2</th>\n",
       "      <td>Región del Libertador Bernardo O'Higgins</td>\n",
       "      <td>Coinco</td>\n",
       "      <td>POLYGON ((-70.90058 -34.23703, -70.90063 -34.2...</td>\n",
       "      <td>7916.0</td>\n",
       "      <td>1.886844</td>\n",
       "      <td>1043.424805</td>\n",
       "    </tr>\n",
       "    <tr>\n",
       "      <th>3</th>\n",
       "      <td>Región del Libertador Bernardo O'Higgins</td>\n",
       "      <td>Coltauco</td>\n",
       "      <td>POLYGON ((-71.02492 -34.17053, -71.0232 -34.17...</td>\n",
       "      <td>21373.0</td>\n",
       "      <td>1.158396</td>\n",
       "      <td>1446.837036</td>\n",
       "    </tr>\n",
       "    <tr>\n",
       "      <th>4</th>\n",
       "      <td>Región de La Araucanía</td>\n",
       "      <td>Cholchol</td>\n",
       "      <td>POLYGON ((-72.95898 -38.46877, -72.95797 -38.4...</td>\n",
       "      <td>13167.0</td>\n",
       "      <td>0.102332</td>\n",
       "      <td>259.411346</td>\n",
       "    </tr>\n",
       "    <tr>\n",
       "      <th>...</th>\n",
       "      <td>...</td>\n",
       "      <td>...</td>\n",
       "      <td>...</td>\n",
       "      <td>...</td>\n",
       "      <td>...</td>\n",
       "      <td>...</td>\n",
       "    </tr>\n",
       "    <tr>\n",
       "      <th>340</th>\n",
       "      <td>Región de Ñuble</td>\n",
       "      <td>San Nicolás</td>\n",
       "      <td>POLYGON ((-72.24207 -36.35227, -72.24014 -36.3...</td>\n",
       "      <td>15099.0</td>\n",
       "      <td>0.195490</td>\n",
       "      <td>638.079346</td>\n",
       "    </tr>\n",
       "    <tr>\n",
       "      <th>341</th>\n",
       "      <td>Región de Ñuble</td>\n",
       "      <td>San Fabián</td>\n",
       "      <td>POLYGON ((-71.24834 -36.45596, -71.24827 -36.4...</td>\n",
       "      <td>5245.0</td>\n",
       "      <td>0.038722</td>\n",
       "      <td>346.060638</td>\n",
       "    </tr>\n",
       "    <tr>\n",
       "      <th>342</th>\n",
       "      <td>Región de Ñuble</td>\n",
       "      <td>Ñiquén</td>\n",
       "      <td>POLYGON ((-72.09907 -36.13712, -72.09819 -36.1...</td>\n",
       "      <td>12797.0</td>\n",
       "      <td>0.144303</td>\n",
       "      <td>413.716370</td>\n",
       "    </tr>\n",
       "    <tr>\n",
       "      <th>343</th>\n",
       "      <td>Región de Ñuble</td>\n",
       "      <td>El Carmen</td>\n",
       "      <td>POLYGON ((-71.74229 -36.82882, -71.74224 -36.8...</td>\n",
       "      <td>13186.0</td>\n",
       "      <td>0.205455</td>\n",
       "      <td>797.781433</td>\n",
       "    </tr>\n",
       "    <tr>\n",
       "      <th>344</th>\n",
       "      <td>Región de Ñuble</td>\n",
       "      <td>Coihueco</td>\n",
       "      <td>POLYGON ((-71.21478 -36.97323, -71.21519 -36.9...</td>\n",
       "      <td>29766.0</td>\n",
       "      <td>0.178753</td>\n",
       "      <td>1840.262207</td>\n",
       "    </tr>\n",
       "  </tbody>\n",
       "</table>\n",
       "<p>345 rows × 6 columns</p>\n",
       "</div>"
      ],
      "text/plain": [
       "                                       Region       Comuna  \\\n",
       "0    Región del Libertador Bernardo O'Higgins    Marchigüe   \n",
       "1    Región del Libertador Bernardo O'Higgins      Codegua   \n",
       "2    Región del Libertador Bernardo O'Higgins       Coinco   \n",
       "3    Región del Libertador Bernardo O'Higgins     Coltauco   \n",
       "4                      Región de La Araucanía     Cholchol   \n",
       "..                                        ...          ...   \n",
       "340                           Región de Ñuble  San Nicolás   \n",
       "341                           Región de Ñuble   San Fabián   \n",
       "342                           Región de Ñuble       Ñiquén   \n",
       "343                           Región de Ñuble    El Carmen   \n",
       "344                           Región de Ñuble     Coihueco   \n",
       "\n",
       "                                              geometry  Población censada  \\\n",
       "0    POLYGON ((-71.80071 -34.20728, -71.79992 -34.2...             8715.0   \n",
       "1    POLYGON ((-70.35293 -33.95263, -70.35243 -33.9...            13955.0   \n",
       "2    POLYGON ((-70.90058 -34.23703, -70.90063 -34.2...             7916.0   \n",
       "3    POLYGON ((-71.02492 -34.17053, -71.0232 -34.17...            21373.0   \n",
       "4    POLYGON ((-72.95898 -38.46877, -72.95797 -38.4...            13167.0   \n",
       "..                                                 ...                ...   \n",
       "340  POLYGON ((-72.24207 -36.35227, -72.24014 -36.3...            15099.0   \n",
       "341  POLYGON ((-71.24834 -36.45596, -71.24827 -36.4...             5245.0   \n",
       "342  POLYGON ((-72.09907 -36.13712, -72.09819 -36.1...            12797.0   \n",
       "343  POLYGON ((-71.74229 -36.82882, -71.74224 -36.8...            13186.0   \n",
       "344  POLYGON ((-71.21478 -36.97323, -71.21519 -36.9...            29766.0   \n",
       "\n",
       "     brillo_promedio  brillo_total  \n",
       "0           0.334509   1242.367920  \n",
       "1           1.253766   2009.787598  \n",
       "2           1.886844   1043.424805  \n",
       "3           1.158396   1446.837036  \n",
       "4           0.102332    259.411346  \n",
       "..               ...           ...  \n",
       "340         0.195490    638.079346  \n",
       "341         0.038722    346.060638  \n",
       "342         0.144303    413.716370  \n",
       "343         0.205455    797.781433  \n",
       "344         0.178753   1840.262207  \n",
       "\n",
       "[345 rows x 6 columns]"
      ]
     },
     "execution_count": 40,
     "metadata": {},
     "output_type": "execute_result"
    }
   ],
   "source": [
    "gdf_poblacion"
   ]
  }
 ],
 "metadata": {
  "kernelspec": {
   "display_name": ".venv",
   "language": "python",
   "name": "python3"
  },
  "language_info": {
   "codemirror_mode": {
    "name": "ipython",
    "version": 3
   },
   "file_extension": ".py",
   "mimetype": "text/x-python",
   "name": "python",
   "nbconvert_exporter": "python",
   "pygments_lexer": "ipython3",
   "version": "3.13.3"
  }
 },
 "nbformat": 4,
 "nbformat_minor": 5
}
