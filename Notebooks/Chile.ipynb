{
 "cells": [
  {
   "cell_type": "markdown",
   "id": "5b8226ed",
   "metadata": {},
   "source": [
    "Librerias"
   ]
  },
  {
   "cell_type": "code",
   "execution_count": 157,
   "id": "dcd71858",
   "metadata": {},
   "outputs": [],
   "source": [
    "import geopandas as gpd\n",
    "import numpy as np\n",
    "import matplotlib.pyplot as plt\n",
    "from shapely.geometry import point, polygon\n",
    "import rasterio\n",
    "import rasterstats\n",
    "import pandas as pd\n",
    "from rasterstats import zonal_stats\n",
    "import unicodedata\n",
    "from pathlib import Path\n",
    "from matplotlib.patches import Rectangle\n",
    "import os\n",
    "from scipy.stats import pearsonr, spearmanr\n",
    "import seaborn as sns\n"
   ]
  },
  {
   "cell_type": "markdown",
   "id": "2d6de7ff",
   "metadata": {},
   "source": [
    "Carga de datos\n",
    "\n"
   ]
  },
  {
   "cell_type": "markdown",
   "id": "4ea39f7d",
   "metadata": {},
   "source": [
    "Limites administrativos\n"
   ]
  },
  {
   "cell_type": "code",
   "execution_count": 105,
   "id": "9731ac28",
   "metadata": {},
   "outputs": [],
   "source": [
    "path = \"../Data/Raw/comunas.shp\"\n",
    "gdf_regional = gpd.read_file(path)\n"
   ]
  },
  {
   "cell_type": "markdown",
   "id": "a62fa200",
   "metadata": {},
   "source": [
    "Aeropuertos"
   ]
  },
  {
   "cell_type": "code",
   "execution_count": 106,
   "id": "e51374f8",
   "metadata": {},
   "outputs": [],
   "source": [
    "path1 = \"../Data/Raw/Aeropuertos.shp\"\n",
    "gdf_aeropuertos = gpd.read_file(path1)\n"
   ]
  },
  {
   "cell_type": "markdown",
   "id": "6c2e9246",
   "metadata": {},
   "source": [
    "Raster\n"
   ]
  },
  {
   "cell_type": "code",
   "execution_count": 107,
   "id": "76050ba6",
   "metadata": {},
   "outputs": [],
   "source": [
    "\n",
    "ruta_raster = (\"../Data/Raw/VNL_npp_2024_global_vcmslcfg_v2_c202502261200.average_masked.dat.tif\")"
   ]
  },
  {
   "cell_type": "markdown",
   "id": "8d54de7c",
   "metadata": {},
   "source": [
    "Datos Censo"
   ]
  },
  {
   "cell_type": "code",
   "execution_count": 108,
   "id": "bba24b70",
   "metadata": {},
   "outputs": [],
   "source": [
    "ruta1 = \"../Data/Raw/D1_Poblacion-censada-por-sexo-y-edad-en-grupos-quinquenales.xlsx\"\n",
    "df_poblacion = pd.read_excel(ruta1, sheet_name = \"2\", skiprows=3)"
   ]
  },
  {
   "cell_type": "code",
   "execution_count": 109,
   "id": "2039a240",
   "metadata": {},
   "outputs": [
    {
     "data": {
      "text/html": [
       "<div>\n",
       "<style scoped>\n",
       "    .dataframe tbody tr th:only-of-type {\n",
       "        vertical-align: middle;\n",
       "    }\n",
       "\n",
       "    .dataframe tbody tr th {\n",
       "        vertical-align: top;\n",
       "    }\n",
       "\n",
       "    .dataframe thead th {\n",
       "        text-align: right;\n",
       "    }\n",
       "</style>\n",
       "<table border=\"1\" class=\"dataframe\">\n",
       "  <thead>\n",
       "    <tr style=\"text-align: right;\">\n",
       "      <th></th>\n",
       "      <th>Código región</th>\n",
       "      <th>Región</th>\n",
       "      <th>Código provincia</th>\n",
       "      <th>Provincia</th>\n",
       "      <th>Código comuna</th>\n",
       "      <th>Comuna</th>\n",
       "      <th>Población censada</th>\n",
       "      <th>Hombres</th>\n",
       "      <th>Mujeres</th>\n",
       "      <th>Razón hombre-mujer</th>\n",
       "    </tr>\n",
       "  </thead>\n",
       "  <tbody>\n",
       "    <tr>\n",
       "      <th>0</th>\n",
       "      <td>0</td>\n",
       "      <td>País</td>\n",
       "      <td>0.0</td>\n",
       "      <td>País</td>\n",
       "      <td>0.0</td>\n",
       "      <td>País</td>\n",
       "      <td>18480432.0</td>\n",
       "      <td>8967033.0</td>\n",
       "      <td>9513399.0</td>\n",
       "      <td>94.3</td>\n",
       "    </tr>\n",
       "    <tr>\n",
       "      <th>1</th>\n",
       "      <td>15</td>\n",
       "      <td>Arica y Parinacota</td>\n",
       "      <td>151.0</td>\n",
       "      <td>Arica</td>\n",
       "      <td>15101.0</td>\n",
       "      <td>Arica</td>\n",
       "      <td>241653.0</td>\n",
       "      <td>118844.0</td>\n",
       "      <td>122809.0</td>\n",
       "      <td>96.8</td>\n",
       "    </tr>\n",
       "  </tbody>\n",
       "</table>\n",
       "</div>"
      ],
      "text/plain": [
       "  Código región              Región  Código provincia Provincia  \\\n",
       "0             0                País               0.0      País   \n",
       "1            15  Arica y Parinacota             151.0     Arica   \n",
       "\n",
       "   Código comuna Comuna  Población censada    Hombres    Mujeres  \\\n",
       "0            0.0   País         18480432.0  8967033.0  9513399.0   \n",
       "1        15101.0  Arica           241653.0   118844.0   122809.0   \n",
       "\n",
       "   Razón hombre-mujer  \n",
       "0                94.3  \n",
       "1                96.8  "
      ]
     },
     "execution_count": 109,
     "metadata": {},
     "output_type": "execute_result"
    }
   ],
   "source": [
    "df_poblacion.head(2)"
   ]
  },
  {
   "cell_type": "markdown",
   "id": "06b6e3e1",
   "metadata": {},
   "source": [
    "#### Procesamiento de datos"
   ]
  },
  {
   "cell_type": "markdown",
   "id": "8dbd7cbe",
   "metadata": {},
   "source": [
    "Armonizacion de CRS"
   ]
  },
  {
   "cell_type": "code",
   "execution_count": 110,
   "id": "2bcb5a57",
   "metadata": {},
   "outputs": [],
   "source": [
    "gdf_regional = gdf_regional.to_crs(\"EPSG:4326\")"
   ]
  },
  {
   "cell_type": "code",
   "execution_count": 111,
   "id": "da336fbb",
   "metadata": {},
   "outputs": [],
   "source": [
    "gdf_aeropuertos = gdf_aeropuertos.to_crs(\"EPSG:4326\")"
   ]
  },
  {
   "cell_type": "markdown",
   "id": "6d4f9a73",
   "metadata": {},
   "source": [
    "Procesamiento de aeropuertos"
   ]
  },
  {
   "cell_type": "code",
   "execution_count": 112,
   "id": "87b6d6a6",
   "metadata": {},
   "outputs": [],
   "source": [
    "gdf_aeropuertos = gdf_aeropuertos[gdf_aeropuertos['categoría'] != 'Aeródromo']"
   ]
  },
  {
   "cell_type": "markdown",
   "id": "0d5979af",
   "metadata": {},
   "source": [
    "Procesamiento de las columnas de region "
   ]
  },
  {
   "cell_type": "code",
   "execution_count": 113,
   "id": "7c797fa9",
   "metadata": {},
   "outputs": [
    {
     "data": {
      "text/html": [
       "<div>\n",
       "<style scoped>\n",
       "    .dataframe tbody tr th:only-of-type {\n",
       "        vertical-align: middle;\n",
       "    }\n",
       "\n",
       "    .dataframe tbody tr th {\n",
       "        vertical-align: top;\n",
       "    }\n",
       "\n",
       "    .dataframe thead th {\n",
       "        text-align: right;\n",
       "    }\n",
       "</style>\n",
       "<table border=\"1\" class=\"dataframe\">\n",
       "  <thead>\n",
       "    <tr style=\"text-align: right;\">\n",
       "      <th></th>\n",
       "      <th>objectid</th>\n",
       "      <th>shape_leng</th>\n",
       "      <th>dis_elec</th>\n",
       "      <th>cir_sena</th>\n",
       "      <th>cod_comuna</th>\n",
       "      <th>codregion</th>\n",
       "      <th>st_area_sh</th>\n",
       "      <th>st_length_</th>\n",
       "      <th>Region</th>\n",
       "      <th>Comuna</th>\n",
       "      <th>Provincia</th>\n",
       "      <th>geometry</th>\n",
       "    </tr>\n",
       "  </thead>\n",
       "  <tbody>\n",
       "    <tr>\n",
       "      <th>0</th>\n",
       "      <td>48</td>\n",
       "      <td>170038.624165</td>\n",
       "      <td>16</td>\n",
       "      <td>8</td>\n",
       "      <td>6204</td>\n",
       "      <td>6</td>\n",
       "      <td>9.685774e+08</td>\n",
       "      <td>206184.271675</td>\n",
       "      <td>Región del Libertador Bernardo O'Higgins</td>\n",
       "      <td>Marchigüe</td>\n",
       "      <td>Cardenal Caro</td>\n",
       "      <td>POLYGON ((-71.80071 -34.20728, -71.79992 -34.2...</td>\n",
       "    </tr>\n",
       "    <tr>\n",
       "      <th>1</th>\n",
       "      <td>29</td>\n",
       "      <td>125730.104795</td>\n",
       "      <td>15</td>\n",
       "      <td>8</td>\n",
       "      <td>6102</td>\n",
       "      <td>6</td>\n",
       "      <td>4.157446e+08</td>\n",
       "      <td>151911.576827</td>\n",
       "      <td>Región del Libertador Bernardo O'Higgins</td>\n",
       "      <td>Codegua</td>\n",
       "      <td>Cachapoal</td>\n",
       "      <td>POLYGON ((-70.35293 -33.95263, -70.35243 -33.9...</td>\n",
       "    </tr>\n",
       "  </tbody>\n",
       "</table>\n",
       "</div>"
      ],
      "text/plain": [
       "   objectid     shape_leng  dis_elec  cir_sena  cod_comuna  codregion  \\\n",
       "0        48  170038.624165        16         8        6204          6   \n",
       "1        29  125730.104795        15         8        6102          6   \n",
       "\n",
       "     st_area_sh     st_length_                                    Region  \\\n",
       "0  9.685774e+08  206184.271675  Región del Libertador Bernardo O'Higgins   \n",
       "1  4.157446e+08  151911.576827  Región del Libertador Bernardo O'Higgins   \n",
       "\n",
       "      Comuna      Provincia                                           geometry  \n",
       "0  Marchigüe  Cardenal Caro  POLYGON ((-71.80071 -34.20728, -71.79992 -34.2...  \n",
       "1    Codegua      Cachapoal  POLYGON ((-70.35293 -33.95263, -70.35243 -33.9...  "
      ]
     },
     "execution_count": 113,
     "metadata": {},
     "output_type": "execute_result"
    }
   ],
   "source": [
    "gdf_regional.head(2)"
   ]
  },
  {
   "cell_type": "code",
   "execution_count": 114,
   "id": "b735fca2",
   "metadata": {},
   "outputs": [
    {
     "data": {
      "text/plain": [
       "array([\"Región del Libertador Bernardo O'Higgins\",\n",
       "       'Región de La Araucanía', 'Región Metropolitana de Santiago',\n",
       "       'Región de Los Lagos', 'Región de Los Ríos', 'Región del Maule',\n",
       "       'Región de Coquimbo', 'Región de Magallanes y Antártica Chilena',\n",
       "       'Zona sin demarcar', 'Región de Valparaíso', 'Región del Bío-Bío',\n",
       "       'Región de Aysén del Gral.Ibañez del Campo', 'Región de Tarapacá',\n",
       "       'Región de Arica y Parinacota', 'Región de Antofagasta',\n",
       "       'Región de Ñuble', 'Región de Atacama'], dtype=object)"
      ]
     },
     "execution_count": 114,
     "metadata": {},
     "output_type": "execute_result"
    }
   ],
   "source": [
    "gdf_regional.Region.unique()"
   ]
  },
  {
   "cell_type": "code",
   "execution_count": 115,
   "id": "81166f80",
   "metadata": {},
   "outputs": [
    {
     "data": {
      "text/html": [
       "<div>\n",
       "<style scoped>\n",
       "    .dataframe tbody tr th:only-of-type {\n",
       "        vertical-align: middle;\n",
       "    }\n",
       "\n",
       "    .dataframe tbody tr th {\n",
       "        vertical-align: top;\n",
       "    }\n",
       "\n",
       "    .dataframe thead th {\n",
       "        text-align: right;\n",
       "    }\n",
       "</style>\n",
       "<table border=\"1\" class=\"dataframe\">\n",
       "  <thead>\n",
       "    <tr style=\"text-align: right;\">\n",
       "      <th></th>\n",
       "      <th>Código región</th>\n",
       "      <th>Región</th>\n",
       "      <th>Código provincia</th>\n",
       "      <th>Provincia</th>\n",
       "      <th>Código comuna</th>\n",
       "      <th>Comuna</th>\n",
       "      <th>Población censada</th>\n",
       "      <th>Hombres</th>\n",
       "      <th>Mujeres</th>\n",
       "      <th>Razón hombre-mujer</th>\n",
       "    </tr>\n",
       "  </thead>\n",
       "  <tbody>\n",
       "    <tr>\n",
       "      <th>0</th>\n",
       "      <td>0</td>\n",
       "      <td>País</td>\n",
       "      <td>0.0</td>\n",
       "      <td>País</td>\n",
       "      <td>0.0</td>\n",
       "      <td>País</td>\n",
       "      <td>18480432.0</td>\n",
       "      <td>8967033.0</td>\n",
       "      <td>9513399.0</td>\n",
       "      <td>94.3</td>\n",
       "    </tr>\n",
       "    <tr>\n",
       "      <th>1</th>\n",
       "      <td>15</td>\n",
       "      <td>Arica y Parinacota</td>\n",
       "      <td>151.0</td>\n",
       "      <td>Arica</td>\n",
       "      <td>15101.0</td>\n",
       "      <td>Arica</td>\n",
       "      <td>241653.0</td>\n",
       "      <td>118844.0</td>\n",
       "      <td>122809.0</td>\n",
       "      <td>96.8</td>\n",
       "    </tr>\n",
       "  </tbody>\n",
       "</table>\n",
       "</div>"
      ],
      "text/plain": [
       "  Código región              Región  Código provincia Provincia  \\\n",
       "0             0                País               0.0      País   \n",
       "1            15  Arica y Parinacota             151.0     Arica   \n",
       "\n",
       "   Código comuna Comuna  Población censada    Hombres    Mujeres  \\\n",
       "0            0.0   País         18480432.0  8967033.0  9513399.0   \n",
       "1        15101.0  Arica           241653.0   118844.0   122809.0   \n",
       "\n",
       "   Razón hombre-mujer  \n",
       "0                94.3  \n",
       "1                96.8  "
      ]
     },
     "execution_count": 115,
     "metadata": {},
     "output_type": "execute_result"
    }
   ],
   "source": [
    "df_poblacion.head(2)"
   ]
  },
  {
   "cell_type": "code",
   "execution_count": 116,
   "id": "e280f4e7",
   "metadata": {},
   "outputs": [
    {
     "data": {
      "text/plain": [
       "array(['País', 'Arica y Parinacota', 'Tarapacá', 'Antofagasta', 'Atacama',\n",
       "       'Coquimbo', 'Valparaíso', 'Metropolitana de Santiago',\n",
       "       \"Libertador General Bernardo O'Higgins\", 'Maule', 'Ñuble',\n",
       "       'Biobío', 'La Araucanía', 'Los Ríos', 'Los Lagos',\n",
       "       'Aysén del General Carlos Ibáñez del Campo',\n",
       "       'Magallanes y de la Antártica Chilena', nan], dtype=object)"
      ]
     },
     "execution_count": 116,
     "metadata": {},
     "output_type": "execute_result"
    }
   ],
   "source": [
    "df_poblacion.Región.unique()"
   ]
  },
  {
   "cell_type": "code",
   "execution_count": 117,
   "id": "7415752a",
   "metadata": {},
   "outputs": [],
   "source": [
    "diccionario_regiones = {\n",
    "    \"Arica y Parinacota\": \"Región de Arica y Parinacota\",\n",
    "    \"Tarapacá\": \"Región de Tarapacá\",\n",
    "    \"Antofagasta\": \"Región de Antofagasta\",\n",
    "    \"Atacama\": \"Región de Atacama\",\n",
    "    \"Coquimbo\": \"Región de Coquimbo\",\n",
    "    \"Valparaíso\": \"Región de Valparaíso\",\n",
    "    \"Metropolitana de Santiago\": \"Región Metropolitana de Santiago\",\n",
    "    \"Libertador General Bernardo O'Higgins\": \"Región del Libertador Bernardo O'Higgins\",\n",
    "    \"Maule\": \"Región del Maule\",\n",
    "    \"Ñuble\": \"Región de Ñuble\",\n",
    "    \"Biobío\": \"Región del Bío-Bío\",\n",
    "    \"La Araucanía\": \"Región de La Araucanía\",\n",
    "    \"Los Ríos\": \"Región de Los Ríos\",\n",
    "    \"Los Lagos\": \"Región de Los Lagos\",\n",
    "    \"Aysén del General Carlos Ibáñez del Campo\": \"Región de Aysén del Gral.Ibañez del Campo\",\n",
    "    \"Magallanes y de la Antártica Chilena\": \"Región de Magallanes y Antártica Chilena\",\n",
    "    \"País\": \"Zona sin demarcar\",\n",
    "    np.nan: \"Zona sin demarcar\"    \n",
    "}\n"
   ]
  },
  {
   "cell_type": "code",
   "execution_count": 118,
   "id": "4b30a7e1",
   "metadata": {},
   "outputs": [],
   "source": [
    "df_poblacion = df_poblacion.replace({\"Región\":diccionario_regiones})"
   ]
  },
  {
   "cell_type": "code",
   "execution_count": 119,
   "id": "8f3b7f34",
   "metadata": {},
   "outputs": [
    {
     "data": {
      "text/html": [
       "<div>\n",
       "<style scoped>\n",
       "    .dataframe tbody tr th:only-of-type {\n",
       "        vertical-align: middle;\n",
       "    }\n",
       "\n",
       "    .dataframe tbody tr th {\n",
       "        vertical-align: top;\n",
       "    }\n",
       "\n",
       "    .dataframe thead th {\n",
       "        text-align: right;\n",
       "    }\n",
       "</style>\n",
       "<table border=\"1\" class=\"dataframe\">\n",
       "  <thead>\n",
       "    <tr style=\"text-align: right;\">\n",
       "      <th></th>\n",
       "      <th>Código región</th>\n",
       "      <th>Región</th>\n",
       "      <th>Código provincia</th>\n",
       "      <th>Provincia</th>\n",
       "      <th>Código comuna</th>\n",
       "      <th>Comuna</th>\n",
       "      <th>Población censada</th>\n",
       "      <th>Hombres</th>\n",
       "      <th>Mujeres</th>\n",
       "      <th>Razón hombre-mujer</th>\n",
       "    </tr>\n",
       "  </thead>\n",
       "  <tbody>\n",
       "    <tr>\n",
       "      <th>0</th>\n",
       "      <td>0</td>\n",
       "      <td>Zona sin demarcar</td>\n",
       "      <td>0.0</td>\n",
       "      <td>País</td>\n",
       "      <td>0.0</td>\n",
       "      <td>País</td>\n",
       "      <td>18480432.0</td>\n",
       "      <td>8967033.0</td>\n",
       "      <td>9513399.0</td>\n",
       "      <td>94.3</td>\n",
       "    </tr>\n",
       "    <tr>\n",
       "      <th>1</th>\n",
       "      <td>15</td>\n",
       "      <td>Región de Arica y Parinacota</td>\n",
       "      <td>151.0</td>\n",
       "      <td>Arica</td>\n",
       "      <td>15101.0</td>\n",
       "      <td>Arica</td>\n",
       "      <td>241653.0</td>\n",
       "      <td>118844.0</td>\n",
       "      <td>122809.0</td>\n",
       "      <td>96.8</td>\n",
       "    </tr>\n",
       "    <tr>\n",
       "      <th>2</th>\n",
       "      <td>15</td>\n",
       "      <td>Región de Arica y Parinacota</td>\n",
       "      <td>151.0</td>\n",
       "      <td>Arica</td>\n",
       "      <td>15102.0</td>\n",
       "      <td>Camarones</td>\n",
       "      <td>861.0</td>\n",
       "      <td>430.0</td>\n",
       "      <td>431.0</td>\n",
       "      <td>99.8</td>\n",
       "    </tr>\n",
       "    <tr>\n",
       "      <th>3</th>\n",
       "      <td>15</td>\n",
       "      <td>Región de Arica y Parinacota</td>\n",
       "      <td>152.0</td>\n",
       "      <td>Parinacota</td>\n",
       "      <td>15201.0</td>\n",
       "      <td>Putre</td>\n",
       "      <td>1547.0</td>\n",
       "      <td>846.0</td>\n",
       "      <td>701.0</td>\n",
       "      <td>120.7</td>\n",
       "    </tr>\n",
       "    <tr>\n",
       "      <th>4</th>\n",
       "      <td>15</td>\n",
       "      <td>Región de Arica y Parinacota</td>\n",
       "      <td>152.0</td>\n",
       "      <td>Parinacota</td>\n",
       "      <td>15202.0</td>\n",
       "      <td>General Lagos</td>\n",
       "      <td>508.0</td>\n",
       "      <td>261.0</td>\n",
       "      <td>247.0</td>\n",
       "      <td>105.7</td>\n",
       "    </tr>\n",
       "    <tr>\n",
       "      <th>...</th>\n",
       "      <td>...</td>\n",
       "      <td>...</td>\n",
       "      <td>...</td>\n",
       "      <td>...</td>\n",
       "      <td>...</td>\n",
       "      <td>...</td>\n",
       "      <td>...</td>\n",
       "      <td>...</td>\n",
       "      <td>...</td>\n",
       "      <td>...</td>\n",
       "    </tr>\n",
       "    <tr>\n",
       "      <th>344</th>\n",
       "      <td>12</td>\n",
       "      <td>Región de Magallanes y Antártica Chilena</td>\n",
       "      <td>123.0</td>\n",
       "      <td>Tierra del Fuego</td>\n",
       "      <td>12303.0</td>\n",
       "      <td>Timaukel</td>\n",
       "      <td>157.0</td>\n",
       "      <td>95.0</td>\n",
       "      <td>62.0</td>\n",
       "      <td>153.2</td>\n",
       "    </tr>\n",
       "    <tr>\n",
       "      <th>345</th>\n",
       "      <td>12</td>\n",
       "      <td>Región de Magallanes y Antártica Chilena</td>\n",
       "      <td>124.0</td>\n",
       "      <td>Última Esperanza</td>\n",
       "      <td>12401.0</td>\n",
       "      <td>Natales</td>\n",
       "      <td>24152.0</td>\n",
       "      <td>12064.0</td>\n",
       "      <td>12088.0</td>\n",
       "      <td>99.8</td>\n",
       "    </tr>\n",
       "    <tr>\n",
       "      <th>346</th>\n",
       "      <td>12</td>\n",
       "      <td>Región de Magallanes y Antártica Chilena</td>\n",
       "      <td>124.0</td>\n",
       "      <td>Última Esperanza</td>\n",
       "      <td>12402.0</td>\n",
       "      <td>Torres del Paine</td>\n",
       "      <td>203.0</td>\n",
       "      <td>118.0</td>\n",
       "      <td>85.0</td>\n",
       "      <td>138.8</td>\n",
       "    </tr>\n",
       "    <tr>\n",
       "      <th>347</th>\n",
       "      <td>NaN</td>\n",
       "      <td>Zona sin demarcar</td>\n",
       "      <td>NaN</td>\n",
       "      <td>NaN</td>\n",
       "      <td>NaN</td>\n",
       "      <td>NaN</td>\n",
       "      <td>NaN</td>\n",
       "      <td>NaN</td>\n",
       "      <td>NaN</td>\n",
       "      <td>NaN</td>\n",
       "    </tr>\n",
       "    <tr>\n",
       "      <th>348</th>\n",
       "      <td>Fuente: Censo de Población y Vivienda 2024 - I...</td>\n",
       "      <td>Zona sin demarcar</td>\n",
       "      <td>NaN</td>\n",
       "      <td>NaN</td>\n",
       "      <td>NaN</td>\n",
       "      <td>NaN</td>\n",
       "      <td>NaN</td>\n",
       "      <td>NaN</td>\n",
       "      <td>NaN</td>\n",
       "      <td>NaN</td>\n",
       "    </tr>\n",
       "  </tbody>\n",
       "</table>\n",
       "<p>349 rows × 10 columns</p>\n",
       "</div>"
      ],
      "text/plain": [
       "                                         Código región  \\\n",
       "0                                                    0   \n",
       "1                                                   15   \n",
       "2                                                   15   \n",
       "3                                                   15   \n",
       "4                                                   15   \n",
       "..                                                 ...   \n",
       "344                                                 12   \n",
       "345                                                 12   \n",
       "346                                                 12   \n",
       "347                                                NaN   \n",
       "348  Fuente: Censo de Población y Vivienda 2024 - I...   \n",
       "\n",
       "                                       Región  Código provincia  \\\n",
       "0                           Zona sin demarcar               0.0   \n",
       "1                Región de Arica y Parinacota             151.0   \n",
       "2                Región de Arica y Parinacota             151.0   \n",
       "3                Región de Arica y Parinacota             152.0   \n",
       "4                Región de Arica y Parinacota             152.0   \n",
       "..                                        ...               ...   \n",
       "344  Región de Magallanes y Antártica Chilena             123.0   \n",
       "345  Región de Magallanes y Antártica Chilena             124.0   \n",
       "346  Región de Magallanes y Antártica Chilena             124.0   \n",
       "347                         Zona sin demarcar               NaN   \n",
       "348                         Zona sin demarcar               NaN   \n",
       "\n",
       "            Provincia  Código comuna            Comuna  Población censada  \\\n",
       "0                País            0.0              País         18480432.0   \n",
       "1               Arica        15101.0             Arica           241653.0   \n",
       "2               Arica        15102.0         Camarones              861.0   \n",
       "3          Parinacota        15201.0             Putre             1547.0   \n",
       "4          Parinacota        15202.0     General Lagos              508.0   \n",
       "..                ...            ...               ...                ...   \n",
       "344  Tierra del Fuego        12303.0          Timaukel              157.0   \n",
       "345  Última Esperanza        12401.0           Natales            24152.0   \n",
       "346  Última Esperanza        12402.0  Torres del Paine              203.0   \n",
       "347               NaN            NaN               NaN                NaN   \n",
       "348               NaN            NaN               NaN                NaN   \n",
       "\n",
       "       Hombres    Mujeres  Razón hombre-mujer  \n",
       "0    8967033.0  9513399.0                94.3  \n",
       "1     118844.0   122809.0                96.8  \n",
       "2        430.0      431.0                99.8  \n",
       "3        846.0      701.0               120.7  \n",
       "4        261.0      247.0               105.7  \n",
       "..         ...        ...                 ...  \n",
       "344       95.0       62.0               153.2  \n",
       "345    12064.0    12088.0                99.8  \n",
       "346      118.0       85.0               138.8  \n",
       "347        NaN        NaN                 NaN  \n",
       "348        NaN        NaN                 NaN  \n",
       "\n",
       "[349 rows x 10 columns]"
      ]
     },
     "execution_count": 119,
     "metadata": {},
     "output_type": "execute_result"
    }
   ],
   "source": [
    "df_poblacion"
   ]
  },
  {
   "cell_type": "code",
   "execution_count": 120,
   "id": "e158e4b2",
   "metadata": {},
   "outputs": [],
   "source": [
    "gdf_regional = gdf_regional[gdf_regional['Region'] != 'Zona sin demarcar']"
   ]
  },
  {
   "cell_type": "code",
   "execution_count": 121,
   "id": "d45ea511",
   "metadata": {},
   "outputs": [],
   "source": [
    "df_poblacion = df_poblacion[df_poblacion['Región'] != 'Zona sin demarcar']"
   ]
  },
  {
   "cell_type": "code",
   "execution_count": 122,
   "id": "355808a5",
   "metadata": {},
   "outputs": [
    {
     "data": {
      "text/plain": [
       "array(['Región de Arica y Parinacota', 'Región de Tarapacá',\n",
       "       'Región de Antofagasta', 'Región de Atacama', 'Región de Coquimbo',\n",
       "       'Región de Valparaíso', 'Región Metropolitana de Santiago',\n",
       "       \"Región del Libertador Bernardo O'Higgins\", 'Región del Maule',\n",
       "       'Región de Ñuble', 'Región del Bío-Bío', 'Región de La Araucanía',\n",
       "       'Región de Los Ríos', 'Región de Los Lagos',\n",
       "       'Región de Aysén del Gral.Ibañez del Campo',\n",
       "       'Región de Magallanes y Antártica Chilena'], dtype=object)"
      ]
     },
     "execution_count": 122,
     "metadata": {},
     "output_type": "execute_result"
    }
   ],
   "source": [
    "df_poblacion.Región.unique()"
   ]
  },
  {
   "cell_type": "code",
   "execution_count": 123,
   "id": "d8b53625",
   "metadata": {},
   "outputs": [
    {
     "data": {
      "text/plain": [
       "array([\"Región del Libertador Bernardo O'Higgins\",\n",
       "       'Región de La Araucanía', 'Región Metropolitana de Santiago',\n",
       "       'Región de Los Lagos', 'Región de Los Ríos', 'Región del Maule',\n",
       "       'Región de Coquimbo', 'Región de Magallanes y Antártica Chilena',\n",
       "       'Región de Valparaíso', 'Región del Bío-Bío',\n",
       "       'Región de Aysén del Gral.Ibañez del Campo', 'Región de Tarapacá',\n",
       "       'Región de Arica y Parinacota', 'Región de Antofagasta',\n",
       "       'Región de Ñuble', 'Región de Atacama'], dtype=object)"
      ]
     },
     "execution_count": 123,
     "metadata": {},
     "output_type": "execute_result"
    }
   ],
   "source": [
    "gdf_regional.Region.unique()"
   ]
  },
  {
   "cell_type": "markdown",
   "id": "9001b006",
   "metadata": {},
   "source": [
    "Filtrar columnas relevantes"
   ]
  },
  {
   "cell_type": "code",
   "execution_count": 124,
   "id": "1b35560a",
   "metadata": {},
   "outputs": [],
   "source": [
    "gdf_regional =gdf_regional[['Region','Comuna','geometry']]\n",
    "df_poblacion =df_poblacion[['Región','Comuna','Población censada']]"
   ]
  },
  {
   "cell_type": "code",
   "execution_count": 125,
   "id": "7b24b920",
   "metadata": {},
   "outputs": [
    {
     "data": {
      "text/html": [
       "<div>\n",
       "<style scoped>\n",
       "    .dataframe tbody tr th:only-of-type {\n",
       "        vertical-align: middle;\n",
       "    }\n",
       "\n",
       "    .dataframe tbody tr th {\n",
       "        vertical-align: top;\n",
       "    }\n",
       "\n",
       "    .dataframe thead th {\n",
       "        text-align: right;\n",
       "    }\n",
       "</style>\n",
       "<table border=\"1\" class=\"dataframe\">\n",
       "  <thead>\n",
       "    <tr style=\"text-align: right;\">\n",
       "      <th></th>\n",
       "      <th>Region</th>\n",
       "      <th>Comuna</th>\n",
       "      <th>geometry</th>\n",
       "    </tr>\n",
       "  </thead>\n",
       "  <tbody>\n",
       "    <tr>\n",
       "      <th>0</th>\n",
       "      <td>Región del Libertador Bernardo O'Higgins</td>\n",
       "      <td>Marchigüe</td>\n",
       "      <td>POLYGON ((-71.80071 -34.20728, -71.79992 -34.2...</td>\n",
       "    </tr>\n",
       "    <tr>\n",
       "      <th>1</th>\n",
       "      <td>Región del Libertador Bernardo O'Higgins</td>\n",
       "      <td>Codegua</td>\n",
       "      <td>POLYGON ((-70.35293 -33.95263, -70.35243 -33.9...</td>\n",
       "    </tr>\n",
       "  </tbody>\n",
       "</table>\n",
       "</div>"
      ],
      "text/plain": [
       "                                     Region     Comuna  \\\n",
       "0  Región del Libertador Bernardo O'Higgins  Marchigüe   \n",
       "1  Región del Libertador Bernardo O'Higgins    Codegua   \n",
       "\n",
       "                                            geometry  \n",
       "0  POLYGON ((-71.80071 -34.20728, -71.79992 -34.2...  \n",
       "1  POLYGON ((-70.35293 -33.95263, -70.35243 -33.9...  "
      ]
     },
     "execution_count": 125,
     "metadata": {},
     "output_type": "execute_result"
    }
   ],
   "source": [
    "gdf_regional.head(2)"
   ]
  },
  {
   "cell_type": "code",
   "execution_count": 126,
   "id": "9987c120",
   "metadata": {},
   "outputs": [
    {
     "data": {
      "text/html": [
       "<div>\n",
       "<style scoped>\n",
       "    .dataframe tbody tr th:only-of-type {\n",
       "        vertical-align: middle;\n",
       "    }\n",
       "\n",
       "    .dataframe tbody tr th {\n",
       "        vertical-align: top;\n",
       "    }\n",
       "\n",
       "    .dataframe thead th {\n",
       "        text-align: right;\n",
       "    }\n",
       "</style>\n",
       "<table border=\"1\" class=\"dataframe\">\n",
       "  <thead>\n",
       "    <tr style=\"text-align: right;\">\n",
       "      <th></th>\n",
       "      <th>Región</th>\n",
       "      <th>Comuna</th>\n",
       "      <th>Población censada</th>\n",
       "    </tr>\n",
       "  </thead>\n",
       "  <tbody>\n",
       "    <tr>\n",
       "      <th>1</th>\n",
       "      <td>Región de Arica y Parinacota</td>\n",
       "      <td>Arica</td>\n",
       "      <td>241653.0</td>\n",
       "    </tr>\n",
       "    <tr>\n",
       "      <th>2</th>\n",
       "      <td>Región de Arica y Parinacota</td>\n",
       "      <td>Camarones</td>\n",
       "      <td>861.0</td>\n",
       "    </tr>\n",
       "  </tbody>\n",
       "</table>\n",
       "</div>"
      ],
      "text/plain": [
       "                         Región     Comuna  Población censada\n",
       "1  Región de Arica y Parinacota      Arica           241653.0\n",
       "2  Región de Arica y Parinacota  Camarones              861.0"
      ]
     },
     "execution_count": 126,
     "metadata": {},
     "output_type": "execute_result"
    }
   ],
   "source": [
    "df_poblacion.head(2)"
   ]
  },
  {
   "cell_type": "markdown",
   "id": "d31c018c",
   "metadata": {},
   "source": [
    "Procesamiento de comuna"
   ]
  },
  {
   "cell_type": "code",
   "execution_count": 127,
   "id": "abb22721",
   "metadata": {},
   "outputs": [
    {
     "data": {
      "text/plain": [
       "(345, 3)"
      ]
     },
     "execution_count": 127,
     "metadata": {},
     "output_type": "execute_result"
    }
   ],
   "source": [
    "gdf_regional.shape"
   ]
  },
  {
   "cell_type": "code",
   "execution_count": 128,
   "id": "ca868756",
   "metadata": {},
   "outputs": [
    {
     "data": {
      "text/plain": [
       "(346, 3)"
      ]
     },
     "execution_count": 128,
     "metadata": {},
     "output_type": "execute_result"
    }
   ],
   "source": [
    "df_poblacion.shape"
   ]
  },
  {
   "cell_type": "markdown",
   "id": "8911ec62",
   "metadata": {},
   "source": [
    "Comparacion de Arrays numpy"
   ]
  },
  {
   "cell_type": "code",
   "execution_count": 129,
   "id": "20de6fdf",
   "metadata": {},
   "outputs": [],
   "source": [
    "arr1 = np.setdiff1d(gdf_regional.Comuna.unique(), df_poblacion.Comuna.unique())\n",
    "arr2 = np.setdiff1d(df_poblacion.Comuna.unique(), gdf_regional.Comuna.unique())"
   ]
  },
  {
   "cell_type": "code",
   "execution_count": 130,
   "id": "633419ca",
   "metadata": {},
   "outputs": [
    {
     "data": {
      "text/plain": [
       "array(['Los Alamos', 'Los Angeles', 'Marchigüe', 'Paihuano', 'Ranquil',\n",
       "       'San Pedro de la Paz', 'Treguaco'], dtype=object)"
      ]
     },
     "execution_count": 130,
     "metadata": {},
     "output_type": "execute_result"
    }
   ],
   "source": [
    "arr1"
   ]
  },
  {
   "cell_type": "code",
   "execution_count": 131,
   "id": "19922013",
   "metadata": {},
   "outputs": [
    {
     "data": {
      "text/plain": [
       "array(['Antártica', 'Los Álamos', 'Los Ángeles', 'Marchihue', 'Paiguano',\n",
       "       'Ránquil', 'San Pedro de La paz', 'Trehuaco'], dtype=object)"
      ]
     },
     "execution_count": 131,
     "metadata": {},
     "output_type": "execute_result"
    }
   ],
   "source": [
    "arr2"
   ]
  },
  {
   "cell_type": "markdown",
   "id": "c5224ab2",
   "metadata": {},
   "source": [
    "Eliminamos la Antartica"
   ]
  },
  {
   "cell_type": "code",
   "execution_count": 132,
   "id": "3e38c51c",
   "metadata": {},
   "outputs": [],
   "source": [
    "df_poblacion =  df_poblacion[df_poblacion['Comuna'] != 'Antártica']"
   ]
  },
  {
   "cell_type": "markdown",
   "id": "b38a2239",
   "metadata": {},
   "source": [
    "Solucionar los nombres de las comunas"
   ]
  },
  {
   "cell_type": "code",
   "execution_count": 133,
   "id": "609239b6",
   "metadata": {},
   "outputs": [],
   "source": [
    "diccionario_comunas = {\n",
    "    'Los Álamos': 'Los Alamos',\n",
    "    'Los Ángeles': 'Los Angeles',\n",
    "    'Marchihue': 'Marchigüe',\n",
    "    'Paiguano': 'Paihuano',\n",
    "    'Ránquil': 'Ranquil',\n",
    "    'San Pedro de La paz': 'San Pedro de la Paz',\n",
    "    'Trehuaco': 'Treguaco'\n",
    "}"
   ]
  },
  {
   "cell_type": "code",
   "execution_count": 134,
   "id": "2a9dced5",
   "metadata": {},
   "outputs": [],
   "source": [
    "df_poblacion = df_poblacion.replace({\"Comuna\": diccionario_comunas})"
   ]
  },
  {
   "cell_type": "code",
   "execution_count": 135,
   "id": "1e60a05e",
   "metadata": {},
   "outputs": [
    {
     "data": {
      "text/html": [
       "<div>\n",
       "<style scoped>\n",
       "    .dataframe tbody tr th:only-of-type {\n",
       "        vertical-align: middle;\n",
       "    }\n",
       "\n",
       "    .dataframe tbody tr th {\n",
       "        vertical-align: top;\n",
       "    }\n",
       "\n",
       "    .dataframe thead th {\n",
       "        text-align: right;\n",
       "    }\n",
       "</style>\n",
       "<table border=\"1\" class=\"dataframe\">\n",
       "  <thead>\n",
       "    <tr style=\"text-align: right;\">\n",
       "      <th></th>\n",
       "      <th>Región</th>\n",
       "      <th>Comuna</th>\n",
       "      <th>Población censada</th>\n",
       "    </tr>\n",
       "  </thead>\n",
       "  <tbody>\n",
       "    <tr>\n",
       "      <th>1</th>\n",
       "      <td>Región de Arica y Parinacota</td>\n",
       "      <td>Arica</td>\n",
       "      <td>241653.0</td>\n",
       "    </tr>\n",
       "    <tr>\n",
       "      <th>2</th>\n",
       "      <td>Región de Arica y Parinacota</td>\n",
       "      <td>Camarones</td>\n",
       "      <td>861.0</td>\n",
       "    </tr>\n",
       "    <tr>\n",
       "      <th>3</th>\n",
       "      <td>Región de Arica y Parinacota</td>\n",
       "      <td>Putre</td>\n",
       "      <td>1547.0</td>\n",
       "    </tr>\n",
       "    <tr>\n",
       "      <th>4</th>\n",
       "      <td>Región de Arica y Parinacota</td>\n",
       "      <td>General Lagos</td>\n",
       "      <td>508.0</td>\n",
       "    </tr>\n",
       "    <tr>\n",
       "      <th>5</th>\n",
       "      <td>Región de Tarapacá</td>\n",
       "      <td>Iquique</td>\n",
       "      <td>199587.0</td>\n",
       "    </tr>\n",
       "    <tr>\n",
       "      <th>...</th>\n",
       "      <td>...</td>\n",
       "      <td>...</td>\n",
       "      <td>...</td>\n",
       "    </tr>\n",
       "    <tr>\n",
       "      <th>342</th>\n",
       "      <td>Región de Magallanes y Antártica Chilena</td>\n",
       "      <td>Porvenir</td>\n",
       "      <td>6809.0</td>\n",
       "    </tr>\n",
       "    <tr>\n",
       "      <th>343</th>\n",
       "      <td>Región de Magallanes y Antártica Chilena</td>\n",
       "      <td>Primavera</td>\n",
       "      <td>431.0</td>\n",
       "    </tr>\n",
       "    <tr>\n",
       "      <th>344</th>\n",
       "      <td>Región de Magallanes y Antártica Chilena</td>\n",
       "      <td>Timaukel</td>\n",
       "      <td>157.0</td>\n",
       "    </tr>\n",
       "    <tr>\n",
       "      <th>345</th>\n",
       "      <td>Región de Magallanes y Antártica Chilena</td>\n",
       "      <td>Natales</td>\n",
       "      <td>24152.0</td>\n",
       "    </tr>\n",
       "    <tr>\n",
       "      <th>346</th>\n",
       "      <td>Región de Magallanes y Antártica Chilena</td>\n",
       "      <td>Torres del Paine</td>\n",
       "      <td>203.0</td>\n",
       "    </tr>\n",
       "  </tbody>\n",
       "</table>\n",
       "<p>345 rows × 3 columns</p>\n",
       "</div>"
      ],
      "text/plain": [
       "                                       Región            Comuna  \\\n",
       "1                Región de Arica y Parinacota             Arica   \n",
       "2                Región de Arica y Parinacota         Camarones   \n",
       "3                Región de Arica y Parinacota             Putre   \n",
       "4                Región de Arica y Parinacota     General Lagos   \n",
       "5                          Región de Tarapacá           Iquique   \n",
       "..                                        ...               ...   \n",
       "342  Región de Magallanes y Antártica Chilena          Porvenir   \n",
       "343  Región de Magallanes y Antártica Chilena         Primavera   \n",
       "344  Región de Magallanes y Antártica Chilena          Timaukel   \n",
       "345  Región de Magallanes y Antártica Chilena           Natales   \n",
       "346  Región de Magallanes y Antártica Chilena  Torres del Paine   \n",
       "\n",
       "     Población censada  \n",
       "1             241653.0  \n",
       "2                861.0  \n",
       "3               1547.0  \n",
       "4                508.0  \n",
       "5             199587.0  \n",
       "..                 ...  \n",
       "342             6809.0  \n",
       "343              431.0  \n",
       "344              157.0  \n",
       "345            24152.0  \n",
       "346              203.0  \n",
       "\n",
       "[345 rows x 3 columns]"
      ]
     },
     "execution_count": 135,
     "metadata": {},
     "output_type": "execute_result"
    }
   ],
   "source": [
    "df_poblacion"
   ]
  },
  {
   "cell_type": "markdown",
   "id": "c67d5701",
   "metadata": {},
   "source": [
    "Geodataframe poblacional a partir de un merge"
   ]
  },
  {
   "cell_type": "code",
   "execution_count": 136,
   "id": "b93a8a26",
   "metadata": {},
   "outputs": [],
   "source": [
    "gdf_poblacion = gdf_regional.merge(df_poblacion, left_on = 'Comuna', right_on= 'Comuna', how= 'left').drop(columns= ['Región'])"
   ]
  },
  {
   "cell_type": "code",
   "execution_count": 137,
   "id": "052a1c00",
   "metadata": {},
   "outputs": [
    {
     "data": {
      "text/html": [
       "<div>\n",
       "<style scoped>\n",
       "    .dataframe tbody tr th:only-of-type {\n",
       "        vertical-align: middle;\n",
       "    }\n",
       "\n",
       "    .dataframe tbody tr th {\n",
       "        vertical-align: top;\n",
       "    }\n",
       "\n",
       "    .dataframe thead th {\n",
       "        text-align: right;\n",
       "    }\n",
       "</style>\n",
       "<table border=\"1\" class=\"dataframe\">\n",
       "  <thead>\n",
       "    <tr style=\"text-align: right;\">\n",
       "      <th></th>\n",
       "      <th>Region</th>\n",
       "      <th>Comuna</th>\n",
       "      <th>geometry</th>\n",
       "      <th>Población censada</th>\n",
       "    </tr>\n",
       "  </thead>\n",
       "  <tbody>\n",
       "    <tr>\n",
       "      <th>0</th>\n",
       "      <td>Región del Libertador Bernardo O'Higgins</td>\n",
       "      <td>Marchigüe</td>\n",
       "      <td>POLYGON ((-71.80071 -34.20728, -71.79992 -34.2...</td>\n",
       "      <td>8715.0</td>\n",
       "    </tr>\n",
       "    <tr>\n",
       "      <th>1</th>\n",
       "      <td>Región del Libertador Bernardo O'Higgins</td>\n",
       "      <td>Codegua</td>\n",
       "      <td>POLYGON ((-70.35293 -33.95263, -70.35243 -33.9...</td>\n",
       "      <td>13955.0</td>\n",
       "    </tr>\n",
       "    <tr>\n",
       "      <th>2</th>\n",
       "      <td>Región del Libertador Bernardo O'Higgins</td>\n",
       "      <td>Coinco</td>\n",
       "      <td>POLYGON ((-70.90058 -34.23703, -70.90063 -34.2...</td>\n",
       "      <td>7916.0</td>\n",
       "    </tr>\n",
       "    <tr>\n",
       "      <th>3</th>\n",
       "      <td>Región del Libertador Bernardo O'Higgins</td>\n",
       "      <td>Coltauco</td>\n",
       "      <td>POLYGON ((-71.02492 -34.17053, -71.0232 -34.17...</td>\n",
       "      <td>21373.0</td>\n",
       "    </tr>\n",
       "    <tr>\n",
       "      <th>4</th>\n",
       "      <td>Región de La Araucanía</td>\n",
       "      <td>Cholchol</td>\n",
       "      <td>POLYGON ((-72.95898 -38.46877, -72.95797 -38.4...</td>\n",
       "      <td>13167.0</td>\n",
       "    </tr>\n",
       "    <tr>\n",
       "      <th>...</th>\n",
       "      <td>...</td>\n",
       "      <td>...</td>\n",
       "      <td>...</td>\n",
       "      <td>...</td>\n",
       "    </tr>\n",
       "    <tr>\n",
       "      <th>340</th>\n",
       "      <td>Región de Ñuble</td>\n",
       "      <td>San Nicolás</td>\n",
       "      <td>POLYGON ((-72.24207 -36.35227, -72.24014 -36.3...</td>\n",
       "      <td>15099.0</td>\n",
       "    </tr>\n",
       "    <tr>\n",
       "      <th>341</th>\n",
       "      <td>Región de Ñuble</td>\n",
       "      <td>San Fabián</td>\n",
       "      <td>POLYGON ((-71.24834 -36.45596, -71.24827 -36.4...</td>\n",
       "      <td>5245.0</td>\n",
       "    </tr>\n",
       "    <tr>\n",
       "      <th>342</th>\n",
       "      <td>Región de Ñuble</td>\n",
       "      <td>Ñiquén</td>\n",
       "      <td>POLYGON ((-72.09907 -36.13712, -72.09819 -36.1...</td>\n",
       "      <td>12797.0</td>\n",
       "    </tr>\n",
       "    <tr>\n",
       "      <th>343</th>\n",
       "      <td>Región de Ñuble</td>\n",
       "      <td>El Carmen</td>\n",
       "      <td>POLYGON ((-71.74229 -36.82882, -71.74224 -36.8...</td>\n",
       "      <td>13186.0</td>\n",
       "    </tr>\n",
       "    <tr>\n",
       "      <th>344</th>\n",
       "      <td>Región de Ñuble</td>\n",
       "      <td>Coihueco</td>\n",
       "      <td>POLYGON ((-71.21478 -36.97323, -71.21519 -36.9...</td>\n",
       "      <td>29766.0</td>\n",
       "    </tr>\n",
       "  </tbody>\n",
       "</table>\n",
       "<p>345 rows × 4 columns</p>\n",
       "</div>"
      ],
      "text/plain": [
       "                                       Region       Comuna  \\\n",
       "0    Región del Libertador Bernardo O'Higgins    Marchigüe   \n",
       "1    Región del Libertador Bernardo O'Higgins      Codegua   \n",
       "2    Región del Libertador Bernardo O'Higgins       Coinco   \n",
       "3    Región del Libertador Bernardo O'Higgins     Coltauco   \n",
       "4                      Región de La Araucanía     Cholchol   \n",
       "..                                        ...          ...   \n",
       "340                           Región de Ñuble  San Nicolás   \n",
       "341                           Región de Ñuble   San Fabián   \n",
       "342                           Región de Ñuble       Ñiquén   \n",
       "343                           Región de Ñuble    El Carmen   \n",
       "344                           Región de Ñuble     Coihueco   \n",
       "\n",
       "                                              geometry  Población censada  \n",
       "0    POLYGON ((-71.80071 -34.20728, -71.79992 -34.2...             8715.0  \n",
       "1    POLYGON ((-70.35293 -33.95263, -70.35243 -33.9...            13955.0  \n",
       "2    POLYGON ((-70.90058 -34.23703, -70.90063 -34.2...             7916.0  \n",
       "3    POLYGON ((-71.02492 -34.17053, -71.0232 -34.17...            21373.0  \n",
       "4    POLYGON ((-72.95898 -38.46877, -72.95797 -38.4...            13167.0  \n",
       "..                                                 ...                ...  \n",
       "340  POLYGON ((-72.24207 -36.35227, -72.24014 -36.3...            15099.0  \n",
       "341  POLYGON ((-71.24834 -36.45596, -71.24827 -36.4...             5245.0  \n",
       "342  POLYGON ((-72.09907 -36.13712, -72.09819 -36.1...            12797.0  \n",
       "343  POLYGON ((-71.74229 -36.82882, -71.74224 -36.8...            13186.0  \n",
       "344  POLYGON ((-71.21478 -36.97323, -71.21519 -36.9...            29766.0  \n",
       "\n",
       "[345 rows x 4 columns]"
      ]
     },
     "execution_count": 137,
     "metadata": {},
     "output_type": "execute_result"
    }
   ],
   "source": [
    "gdf_poblacion"
   ]
  },
  {
   "cell_type": "markdown",
   "id": "d7c7f986",
   "metadata": {},
   "source": [
    "Manejo del raster"
   ]
  },
  {
   "cell_type": "code",
   "execution_count": 138,
   "id": "90b4549c",
   "metadata": {},
   "outputs": [],
   "source": [
    "brillo_promedio = zonal_stats(gdf_poblacion, ruta_raster, stats = ['mean'])"
   ]
  },
  {
   "cell_type": "code",
   "execution_count": 139,
   "id": "01dd3b08",
   "metadata": {},
   "outputs": [],
   "source": [
    "brillo_total = zonal_stats(gdf_poblacion, ruta_raster, stats = ['sum'])"
   ]
  },
  {
   "cell_type": "code",
   "execution_count": 140,
   "id": "31719697",
   "metadata": {},
   "outputs": [],
   "source": [
    "gdf_poblacion['brillo_promedio'] = [stat['mean'] for stat in brillo_promedio]"
   ]
  },
  {
   "cell_type": "code",
   "execution_count": 141,
   "id": "428a0e7c",
   "metadata": {},
   "outputs": [],
   "source": [
    "gdf_poblacion['brillo_total'] = [stat['sum'] for stat in brillo_total]"
   ]
  },
  {
   "cell_type": "code",
   "execution_count": 142,
   "id": "9b586ccd",
   "metadata": {},
   "outputs": [
    {
     "data": {
      "text/html": [
       "<div>\n",
       "<style scoped>\n",
       "    .dataframe tbody tr th:only-of-type {\n",
       "        vertical-align: middle;\n",
       "    }\n",
       "\n",
       "    .dataframe tbody tr th {\n",
       "        vertical-align: top;\n",
       "    }\n",
       "\n",
       "    .dataframe thead th {\n",
       "        text-align: right;\n",
       "    }\n",
       "</style>\n",
       "<table border=\"1\" class=\"dataframe\">\n",
       "  <thead>\n",
       "    <tr style=\"text-align: right;\">\n",
       "      <th></th>\n",
       "      <th>Region</th>\n",
       "      <th>Comuna</th>\n",
       "      <th>geometry</th>\n",
       "      <th>Población censada</th>\n",
       "      <th>brillo_promedio</th>\n",
       "      <th>brillo_total</th>\n",
       "    </tr>\n",
       "  </thead>\n",
       "  <tbody>\n",
       "    <tr>\n",
       "      <th>0</th>\n",
       "      <td>Región del Libertador Bernardo O'Higgins</td>\n",
       "      <td>Marchigüe</td>\n",
       "      <td>POLYGON ((-71.80071 -34.20728, -71.79992 -34.2...</td>\n",
       "      <td>8715.0</td>\n",
       "      <td>0.334509</td>\n",
       "      <td>1242.367920</td>\n",
       "    </tr>\n",
       "    <tr>\n",
       "      <th>1</th>\n",
       "      <td>Región del Libertador Bernardo O'Higgins</td>\n",
       "      <td>Codegua</td>\n",
       "      <td>POLYGON ((-70.35293 -33.95263, -70.35243 -33.9...</td>\n",
       "      <td>13955.0</td>\n",
       "      <td>1.253766</td>\n",
       "      <td>2009.787598</td>\n",
       "    </tr>\n",
       "    <tr>\n",
       "      <th>2</th>\n",
       "      <td>Región del Libertador Bernardo O'Higgins</td>\n",
       "      <td>Coinco</td>\n",
       "      <td>POLYGON ((-70.90058 -34.23703, -70.90063 -34.2...</td>\n",
       "      <td>7916.0</td>\n",
       "      <td>1.886844</td>\n",
       "      <td>1043.424805</td>\n",
       "    </tr>\n",
       "    <tr>\n",
       "      <th>3</th>\n",
       "      <td>Región del Libertador Bernardo O'Higgins</td>\n",
       "      <td>Coltauco</td>\n",
       "      <td>POLYGON ((-71.02492 -34.17053, -71.0232 -34.17...</td>\n",
       "      <td>21373.0</td>\n",
       "      <td>1.158396</td>\n",
       "      <td>1446.837036</td>\n",
       "    </tr>\n",
       "    <tr>\n",
       "      <th>4</th>\n",
       "      <td>Región de La Araucanía</td>\n",
       "      <td>Cholchol</td>\n",
       "      <td>POLYGON ((-72.95898 -38.46877, -72.95797 -38.4...</td>\n",
       "      <td>13167.0</td>\n",
       "      <td>0.102332</td>\n",
       "      <td>259.411346</td>\n",
       "    </tr>\n",
       "    <tr>\n",
       "      <th>...</th>\n",
       "      <td>...</td>\n",
       "      <td>...</td>\n",
       "      <td>...</td>\n",
       "      <td>...</td>\n",
       "      <td>...</td>\n",
       "      <td>...</td>\n",
       "    </tr>\n",
       "    <tr>\n",
       "      <th>340</th>\n",
       "      <td>Región de Ñuble</td>\n",
       "      <td>San Nicolás</td>\n",
       "      <td>POLYGON ((-72.24207 -36.35227, -72.24014 -36.3...</td>\n",
       "      <td>15099.0</td>\n",
       "      <td>0.195490</td>\n",
       "      <td>638.079346</td>\n",
       "    </tr>\n",
       "    <tr>\n",
       "      <th>341</th>\n",
       "      <td>Región de Ñuble</td>\n",
       "      <td>San Fabián</td>\n",
       "      <td>POLYGON ((-71.24834 -36.45596, -71.24827 -36.4...</td>\n",
       "      <td>5245.0</td>\n",
       "      <td>0.038722</td>\n",
       "      <td>346.060638</td>\n",
       "    </tr>\n",
       "    <tr>\n",
       "      <th>342</th>\n",
       "      <td>Región de Ñuble</td>\n",
       "      <td>Ñiquén</td>\n",
       "      <td>POLYGON ((-72.09907 -36.13712, -72.09819 -36.1...</td>\n",
       "      <td>12797.0</td>\n",
       "      <td>0.144303</td>\n",
       "      <td>413.716370</td>\n",
       "    </tr>\n",
       "    <tr>\n",
       "      <th>343</th>\n",
       "      <td>Región de Ñuble</td>\n",
       "      <td>El Carmen</td>\n",
       "      <td>POLYGON ((-71.74229 -36.82882, -71.74224 -36.8...</td>\n",
       "      <td>13186.0</td>\n",
       "      <td>0.205455</td>\n",
       "      <td>797.781433</td>\n",
       "    </tr>\n",
       "    <tr>\n",
       "      <th>344</th>\n",
       "      <td>Región de Ñuble</td>\n",
       "      <td>Coihueco</td>\n",
       "      <td>POLYGON ((-71.21478 -36.97323, -71.21519 -36.9...</td>\n",
       "      <td>29766.0</td>\n",
       "      <td>0.178753</td>\n",
       "      <td>1840.262207</td>\n",
       "    </tr>\n",
       "  </tbody>\n",
       "</table>\n",
       "<p>345 rows × 6 columns</p>\n",
       "</div>"
      ],
      "text/plain": [
       "                                       Region       Comuna  \\\n",
       "0    Región del Libertador Bernardo O'Higgins    Marchigüe   \n",
       "1    Región del Libertador Bernardo O'Higgins      Codegua   \n",
       "2    Región del Libertador Bernardo O'Higgins       Coinco   \n",
       "3    Región del Libertador Bernardo O'Higgins     Coltauco   \n",
       "4                      Región de La Araucanía     Cholchol   \n",
       "..                                        ...          ...   \n",
       "340                           Región de Ñuble  San Nicolás   \n",
       "341                           Región de Ñuble   San Fabián   \n",
       "342                           Región de Ñuble       Ñiquén   \n",
       "343                           Región de Ñuble    El Carmen   \n",
       "344                           Región de Ñuble     Coihueco   \n",
       "\n",
       "                                              geometry  Población censada  \\\n",
       "0    POLYGON ((-71.80071 -34.20728, -71.79992 -34.2...             8715.0   \n",
       "1    POLYGON ((-70.35293 -33.95263, -70.35243 -33.9...            13955.0   \n",
       "2    POLYGON ((-70.90058 -34.23703, -70.90063 -34.2...             7916.0   \n",
       "3    POLYGON ((-71.02492 -34.17053, -71.0232 -34.17...            21373.0   \n",
       "4    POLYGON ((-72.95898 -38.46877, -72.95797 -38.4...            13167.0   \n",
       "..                                                 ...                ...   \n",
       "340  POLYGON ((-72.24207 -36.35227, -72.24014 -36.3...            15099.0   \n",
       "341  POLYGON ((-71.24834 -36.45596, -71.24827 -36.4...             5245.0   \n",
       "342  POLYGON ((-72.09907 -36.13712, -72.09819 -36.1...            12797.0   \n",
       "343  POLYGON ((-71.74229 -36.82882, -71.74224 -36.8...            13186.0   \n",
       "344  POLYGON ((-71.21478 -36.97323, -71.21519 -36.9...            29766.0   \n",
       "\n",
       "     brillo_promedio  brillo_total  \n",
       "0           0.334509   1242.367920  \n",
       "1           1.253766   2009.787598  \n",
       "2           1.886844   1043.424805  \n",
       "3           1.158396   1446.837036  \n",
       "4           0.102332    259.411346  \n",
       "..               ...           ...  \n",
       "340         0.195490    638.079346  \n",
       "341         0.038722    346.060638  \n",
       "342         0.144303    413.716370  \n",
       "343         0.205455    797.781433  \n",
       "344         0.178753   1840.262207  \n",
       "\n",
       "[345 rows x 6 columns]"
      ]
     },
     "execution_count": 142,
     "metadata": {},
     "output_type": "execute_result"
    }
   ],
   "source": [
    "gdf_poblacion"
   ]
  },
  {
   "cell_type": "markdown",
   "id": "f6a8ee3f",
   "metadata": {},
   "source": [
    "### Mapa coropletico de poblacion \n"
   ]
  },
  {
   "cell_type": "code",
   "execution_count": null,
   "id": "0babc6fb",
   "metadata": {},
   "outputs": [],
   "source": [
    "def _norm(s):\n",
    "    if pd.isna(s): return \"\"\n",
    "    return unicodedata.normalize(\"NFKD\", str(s)).encode(\"ascii\", \"ignore\").decode(\"ascii\").lower()\n",
    "\n",
    "def add_scalebar(ax, length_km=None, loc='lower left', pad=0.02, height=2000, color='k', lw=1.5, text_kw=None):\n",
    "    if text_kw is None:\n",
    "        text_kw = dict(ha='center', va='bottom', fontsize=9)\n",
    "    xmin, xmax = ax.get_xlim(); ymin, ymax = ax.get_ylim()\n",
    "    width = xmax - xmin; height_ax = ymax - ymin\n",
    "\n",
    "    # escoger un largo  (en metros)\n",
    "    if length_km is None:\n",
    "        target = width/5\n",
    "        bases = [1,2,5]\n",
    "        exp = int(f\"{target:.1e}\".split('e')[-1])\n",
    "        best = bases[0]*(10**exp)\n",
    "        for b in bases:\n",
    "            cand = b*(10**exp)\n",
    "            if abs(cand-target) < abs(best-target): best = cand\n",
    "        length_m = best\n",
    "    else:\n",
    "        length_m = length_km*1000\n",
    "\n",
    "    if loc == 'lower right':\n",
    "        x0 = xmax - pad*width - length_m\n",
    "    else:\n",
    "        x0 = xmin + pad*width\n",
    "    y0 = ymin + pad*height_ax\n",
    "\n",
    "    ax.add_patch(Rectangle((x0, y0), length_m, height, facecolor='none', edgecolor=color, lw=lw))\n",
    "    ax.text(x0 + length_m/2, y0 + height*1.2, f\"{int(round(length_m/1000))} km\", **text_kw)\n",
    "\n",
    "def add_north_arrow(ax, size=9000, loc='upper left', pad=0.03, color='k'):\n",
    "    xmin, xmax = ax.get_xlim(); ymin, ymax = ax.get_ylim()\n",
    "    dx = xmax - xmin; dy = ymax - ymin\n",
    "    if loc == 'upper right':\n",
    "        x = xmax - pad*dx; ha = 'right'\n",
    "    else:\n",
    "        x = xmin + pad*dx; ha = 'left'\n",
    "    y = ymax - pad*dy\n",
    "    ax.annotate('', xy=(x, y), xytext=(x, y - size),\n",
    "                arrowprops=dict(arrowstyle='-|>', color=color, lw=2, shrinkA=0, shrinkB=0))\n",
    "    ax.text(x, y - size - size*0.2, 'N', ha=ha, va='top', fontsize=12, color=color)\n",
    "\n"
   ]
  },
  {
   "cell_type": "code",
   "execution_count": null,
   "id": "c60bffa0",
   "metadata": {},
   "outputs": [],
   "source": [
    "def plot_region_choropleth(\n",
    "    gdf_poblacion: gpd.GeoDataFrame,\n",
    "    gdf_aeropuertos: gpd.GeoDataFrame,\n",
    "    region_name: str,\n",
    "    value_col_candidates = ('Población censada','poblacion_censada','poblacion','Poblacion'),\n",
    "    out_dir = Path(\"Reports/figs\"),\n",
    "    out_name_prefix = \"poblacion\",\n",
    "    cmap=\"OrRd\"\n",
    "):\n",
    "    out_dir.mkdir(parents=True, exist_ok=True)\n",
    "\n",
    "    # 1) detectar/renombrar columna de población\n",
    "    col_pob = next((c for c in value_col_candidates if c in gdf_poblacion.columns), None)\n",
    "    if col_pob is None:\n",
    "        raise ValueError(f\"No encontré columna de población en: {list(gdf_poblacion.columns)}\")\n",
    "    gdf = gdf_poblacion.rename(columns={col_pob: 'poblacion_censada'}).copy()\n",
    "\n",
    "    if 'Region' not in gdf.columns:\n",
    "        raise ValueError(\"No encontré columna 'Region' en gdf_poblacion.\")\n",
    "\n",
    "    # 2) filtrar región \n",
    "    mask = gdf['Region'].map(lambda s: _norm(s)).str.contains(_norm(region_name), na=False)\n",
    "    gdf_reg = gdf[mask].copy()\n",
    "    if gdf_reg.empty:\n",
    "        raise ValueError(f\"No se encontró la región: {region_name}. Valores ejemplo: {gdf['Region'].unique()[:5]}\")\n",
    "\n",
    "    # 3) CRS → para escala/flecha\n",
    "    if gdf_reg.crs is None:\n",
    "        gdf_reg = gdf_reg.set_crs(4326)\n",
    "    utm = gdf_reg.estimate_utm_crs()\n",
    "    gdf_reg_utm = gdf_reg.to_crs(utm)\n",
    "\n",
    "    # aeropuertos reproyectados y recortados a la región\n",
    "    gdf_aero = gdf_aeropuertos.copy()\n",
    "    if gdf_aero.crs is None:\n",
    "        gdf_aero = gdf_aero.set_crs(gdf_reg.crs or 4326)\n",
    "    gdf_aero_utm = gdf_aero.to_crs(utm)\n",
    "    if not gdf_aero_utm.empty:\n",
    "        gdf_aero_utm = gdf_aero_utm[gdf_aero_utm.within(gdf_reg_utm.unary_union)]\n",
    "\n",
    "    # 4) dibujo\n",
    "    fig, ax = plt.subplots(figsize=(7.5, 8))\n",
    "    gdf_reg_utm.plot(\n",
    "        column='poblacion_censada', ax=ax, cmap=cmap, legend=True,\n",
    "        edgecolor='0.4', linewidth=0.4,\n",
    "        legend_kwds=dict(label=\"Población censada\", orientation=\"vertical\")\n",
    "    )\n",
    "    if not gdf_aero_utm.empty:\n",
    "        gdf_aero_utm.plot(ax=ax, color='dodgerblue', markersize=22,\n",
    "                          edgecolor='white', linewidth=0.5, zorder=3)\n",
    "\n",
    "    ax.set_title(f\"{region_name} – Población por comuna\", fontsize=13)\n",
    "    ax.set_axis_off()\n",
    "    add_scalebar(ax)       # automático\n",
    "    add_north_arrow(ax)    # flecha norte\n",
    "\n",
    "    # 5) exportar\n",
    "    slug = _norm(region_name).replace(\" \", \"_\")\n",
    "    out_png = out_dir / f\"{out_name_prefix}_{slug}.png\"\n",
    "    plt.tight_layout()\n",
    "    plt.savefig(\"../Reports/figs/poblacion_rm.png\", dpi=300, bbox_inches=\"tight\")\n",
    "    plt.show()\n",
    "    print(\"Mapa exportado en:\", out_png.as_posix())    "
   ]
  },
  {
   "cell_type": "code",
   "execution_count": 145,
   "id": "2671b84f",
   "metadata": {},
   "outputs": [
    {
     "name": "stderr",
     "output_type": "stream",
     "text": [
      "C:\\Users\\marcel gonzalez\\AppData\\Local\\Temp\\ipykernel_1016\\899503269.py:39: DeprecationWarning: The 'unary_union' attribute is deprecated, use the 'union_all()' method instead.\n",
      "  gdf_aero_utm = gdf_aero_utm[gdf_aero_utm.within(gdf_reg_utm.unary_union)]\n"
     ]
    },
    {
     "data": {
      "image/png": "[encoded data removed]",
      "text/plain": [
       "<Figure size 750x800 with 2 Axes>"
      ]
     },
     "metadata": {},
     "output_type": "display_data"
    },
    {
     "name": "stdout",
     "output_type": "stream",
     "text": [
      "Mapa exportado en: Reports/figs/poblacion_region_de_los_rios.png\n"
     ]
    }
   ],
   "source": [
    "plot_region_choropleth(\n",
    "    gdf_poblacion=gdf_poblacion,\n",
    "    gdf_aeropuertos=gdf_aeropuertos,\n",
    "    region_name=\"Región de Los Ríos\"   \n",
    ")"
   ]
  },
  {
   "cell_type": "markdown",
   "id": "785e7b21",
   "metadata": {},
   "source": [
    "Parte 3 Puntos\n"
   ]
  },
  {
   "cell_type": "code",
   "execution_count": 146,
   "id": "63de6798",
   "metadata": {},
   "outputs": [],
   "source": [
    "gdf_los_rios = gdf_poblacion[gdf_poblacion['Region'] == \"Región de Los Ríos\"].copy()\n",
    "region_geom = gdf_los_rios.geometry.union_all()"
   ]
  },
  {
   "cell_type": "code",
   "execution_count": null,
   "id": "20071fed",
   "metadata": {},
   "outputs": [
    {
     "name": "stdout",
     "output_type": "stream",
     "text": [
      "POIs en Los Ríos: 0\n"
     ]
    },
    {
     "name": "stderr",
     "output_type": "stream",
     "text": [
      "C:\\Users\\marcel gonzalez\\AppData\\Local\\Temp\\ipykernel_1016\\607758000.py:30: UserWarning: No artists with labels found to put in legend.  Note that artists whose label start with an underscore are ignored when legend() is called with no argument.\n",
      "  ax.legend()\n"
     ]
    },
    {
     "data": {
      "image/png": "[encoded data removed]",
      "text/plain": [
       "<Figure size 800x1000 with 2 Axes>"
      ]
     },
     "metadata": {},
     "output_type": "display_data"
    }
   ],
   "source": [
    "gdf_los_rios = gdf_poblacion[gdf_poblacion['Region'] == \"Región de Los Ríos\"].copy()\n",
    "gdf_aeropuertos = gdf_aeropuertos.to_crs(gdf_los_rios.crs)\n",
    "\n",
    "gdf_aeropuertos_los_rios = gpd.clip(gdf_aeropuertos, gdf_los_rios)\n",
    "print(\"POIs en Los Ríos:\", len(gdf_aeropuertos_los_rios))\n",
    "fig, ax = plt.subplots(figsize=(8, 10))\n",
    "\n",
    "gdf_los_rios.plot(\n",
    "    column=\"Población censada\",\n",
    "    cmap=\"OrRd\",\n",
    "    legend=True,\n",
    "    edgecolor=\"black\",\n",
    "    ax=ax\n",
    ")\n",
    "\n",
    "if not gdf_aeropuertos_los_rios.empty:\n",
    "    gdf_aeropuertos_los_rios.plot(\n",
    "        ax=ax,\n",
    "        color=\"blue\",\n",
    "        marker=\"^\",\n",
    "        markersize=80,\n",
    "        label=\"Aeropuertos\"\n",
    "    )\n",
    "else:\n",
    "    ax.text(0.02, 0.02, \"Sin POIs en la región con el filtro actual\",\n",
    "            transform=ax.transAxes, fontsize=9,\n",
    "            bbox=dict(facecolor=\"white\", alpha=0.7))\n",
    "\n",
    "ax.set_title(\"Región de Los Ríos - Población y Aeropuertos\", fontsize=14)\n",
    "ax.legend()\n",
    "\n",
    "# 4) Exporta al Reports \n",
    "os.makedirs(\"../Reports/figs\", exist_ok=True)\n",
    "plt.savefig(\"../Reports/figs/poblacion_pois.png\", dpi=300, bbox_inches=\"tight\")\n",
    "plt.show()"
   ]
  },
  {
   "cell_type": "code",
   "execution_count": 148,
   "id": "e0f389fd",
   "metadata": {},
   "outputs": [
    {
     "data": {
      "text/html": [
       "<div>\n",
       "<style scoped>\n",
       "    .dataframe tbody tr th:only-of-type {\n",
       "        vertical-align: middle;\n",
       "    }\n",
       "\n",
       "    .dataframe tbody tr th {\n",
       "        vertical-align: top;\n",
       "    }\n",
       "\n",
       "    .dataframe thead th {\n",
       "        text-align: right;\n",
       "    }\n",
       "</style>\n",
       "<table border=\"1\" class=\"dataframe\">\n",
       "  <thead>\n",
       "    <tr style=\"text-align: right;\">\n",
       "      <th></th>\n",
       "      <th>objectid_1</th>\n",
       "      <th>cod_comuna</th>\n",
       "      <th>categoría</th>\n",
       "      <th>cod_oaci</th>\n",
       "      <th>cod_iata</th>\n",
       "      <th>Aerodromo</th>\n",
       "      <th>Region</th>\n",
       "      <th>Provincia</th>\n",
       "      <th>Comuna</th>\n",
       "      <th>geometry</th>\n",
       "    </tr>\n",
       "  </thead>\n",
       "  <tbody>\n",
       "  </tbody>\n",
       "</table>\n",
       "</div>"
      ],
      "text/plain": [
       "Empty GeoDataFrame\n",
       "Columns: [objectid_1, cod_comuna, categoría, cod_oaci, cod_iata, Aerodromo, Region, Provincia, Comuna, geometry]\n",
       "Index: []"
      ]
     },
     "execution_count": 148,
     "metadata": {},
     "output_type": "execute_result"
    }
   ],
   "source": [
    "aeropuertos_los_rios = gdf_aeropuertos[gdf_aeropuertos[\"Region\"].str.contains(\"Región de Los Ríos\", case=False, na=False)]\n",
    "\n",
    "aeropuertos_los_rios"
   ]
  },
  {
   "cell_type": "markdown",
   "id": "711fc47e",
   "metadata": {},
   "source": [
    "### Parte 4: Zonal statistics de VIIRS por comuna"
   ]
  },
  {
   "cell_type": "code",
   "execution_count": null,
   "id": "01a5c8a2",
   "metadata": {},
   "outputs": [
    {
     "data": {
      "text/html": [
       "<div>\n",
       "<style scoped>\n",
       "    .dataframe tbody tr th:only-of-type {\n",
       "        vertical-align: middle;\n",
       "    }\n",
       "\n",
       "    .dataframe tbody tr th {\n",
       "        vertical-align: top;\n",
       "    }\n",
       "\n",
       "    .dataframe thead th {\n",
       "        text-align: right;\n",
       "    }\n",
       "</style>\n",
       "<table border=\"1\" class=\"dataframe\">\n",
       "  <thead>\n",
       "    <tr style=\"text-align: right;\">\n",
       "      <th></th>\n",
       "      <th>Region</th>\n",
       "      <th>Comuna</th>\n",
       "      <th>poblacion</th>\n",
       "      <th>viirs_mean</th>\n",
       "      <th>viirs_sum</th>\n",
       "    </tr>\n",
       "  </thead>\n",
       "  <tbody>\n",
       "    <tr>\n",
       "      <th>0</th>\n",
       "      <td>Región de Los Ríos</td>\n",
       "      <td>La Unión</td>\n",
       "      <td>38907.0</td>\n",
       "      <td>0.186802</td>\n",
       "      <td>2422.637695</td>\n",
       "    </tr>\n",
       "    <tr>\n",
       "      <th>1</th>\n",
       "      <td>Región de Los Ríos</td>\n",
       "      <td>Los Lagos</td>\n",
       "      <td>21431.0</td>\n",
       "      <td>0.096089</td>\n",
       "      <td>1042.762329</td>\n",
       "    </tr>\n",
       "    <tr>\n",
       "      <th>2</th>\n",
       "      <td>Región de Los Ríos</td>\n",
       "      <td>Máfil</td>\n",
       "      <td>8074.0</td>\n",
       "      <td>0.171764</td>\n",
       "      <td>601.003540</td>\n",
       "    </tr>\n",
       "    <tr>\n",
       "      <th>3</th>\n",
       "      <td>Región de Los Ríos</td>\n",
       "      <td>Paillaco</td>\n",
       "      <td>19802.0</td>\n",
       "      <td>0.197045</td>\n",
       "      <td>1080.005737</td>\n",
       "    </tr>\n",
       "    <tr>\n",
       "      <th>4</th>\n",
       "      <td>Región de Los Ríos</td>\n",
       "      <td>Lanco</td>\n",
       "      <td>16876.0</td>\n",
       "      <td>0.276124</td>\n",
       "      <td>885.528503</td>\n",
       "    </tr>\n",
       "  </tbody>\n",
       "</table>\n",
       "</div>"
      ],
      "text/plain": [
       "               Region     Comuna  poblacion  viirs_mean    viirs_sum\n",
       "0  Región de Los Ríos   La Unión    38907.0    0.186802  2422.637695\n",
       "1  Región de Los Ríos  Los Lagos    21431.0    0.096089  1042.762329\n",
       "2  Región de Los Ríos      Máfil     8074.0    0.171764   601.003540\n",
       "3  Región de Los Ríos   Paillaco    19802.0    0.197045  1080.005737\n",
       "4  Región de Los Ríos      Lanco    16876.0    0.276124   885.528503"
      ]
     },
     "execution_count": 149,
     "metadata": {},
     "output_type": "execute_result"
    }
   ],
   "source": [
    "#1) Estandarizacion de nombres\n",
    "\n",
    "gdf_poblacion = gdf_poblacion.rename(columns={\n",
    "    'brillo_promedio': 'viirs_mean',\n",
    "    'brillo_total': 'viirs_sum',\n",
    "    'Población censada': 'poblacion'\n",
    "})\n",
    "\n",
    "# 2) DataFrame final \n",
    "df_viirs = gdf_poblacion[['Region', 'Comuna', 'poblacion', 'viirs_mean', 'viirs_sum']].copy()\n",
    "\n",
    "# 3)  Solo Región de Los Ríos\n",
    "df_los_rios = df_viirs[df_viirs['Region'].str.contains('Ríos', case=False, na=False)].reset_index(drop=True)\n",
    "df_los_rios.head()"
   ]
  },
  {
   "cell_type": "code",
   "execution_count": 150,
   "id": "c9cb4068",
   "metadata": {},
   "outputs": [
    {
     "name": "stdout",
     "output_type": "stream",
     "text": [
      "CRS raster: EPSG:4326\n",
      "Resolución: (0.0041666667, 0.0041666667)\n",
      "NoData: None\n"
     ]
    }
   ],
   "source": [
    "with rasterio.open(ruta_raster) as src:\n",
    "    print('CRS raster:', src.crs)\n",
    "    print('Resolución:', src.res)\n",
    "    print('NoData:', src.nodata)"
   ]
  },
  {
   "cell_type": "code",
   "execution_count": null,
   "id": "579a07b1",
   "metadata": {},
   "outputs": [
    {
     "data": {
      "text/html": [
       "<div>\n",
       "<style scoped>\n",
       "    .dataframe tbody tr th:only-of-type {\n",
       "        vertical-align: middle;\n",
       "    }\n",
       "\n",
       "    .dataframe tbody tr th {\n",
       "        vertical-align: top;\n",
       "    }\n",
       "\n",
       "    .dataframe thead th {\n",
       "        text-align: right;\n",
       "    }\n",
       "</style>\n",
       "<table border=\"1\" class=\"dataframe\">\n",
       "  <thead>\n",
       "    <tr style=\"text-align: right;\">\n",
       "      <th></th>\n",
       "      <th>Region</th>\n",
       "      <th>Comuna</th>\n",
       "      <th>poblacion</th>\n",
       "      <th>viirs_mean</th>\n",
       "      <th>viirs_sum</th>\n",
       "    </tr>\n",
       "  </thead>\n",
       "  <tbody>\n",
       "    <tr>\n",
       "      <th>0</th>\n",
       "      <td>Región de Los Ríos</td>\n",
       "      <td>La Unión</td>\n",
       "      <td>38907.0</td>\n",
       "      <td>2.047876</td>\n",
       "      <td>2422.637695</td>\n",
       "    </tr>\n",
       "    <tr>\n",
       "      <th>1</th>\n",
       "      <td>Región de Los Ríos</td>\n",
       "      <td>Los Lagos</td>\n",
       "      <td>21431.0</td>\n",
       "      <td>1.479096</td>\n",
       "      <td>1042.762329</td>\n",
       "    </tr>\n",
       "    <tr>\n",
       "      <th>2</th>\n",
       "      <td>Región de Los Ríos</td>\n",
       "      <td>Máfil</td>\n",
       "      <td>8074.0</td>\n",
       "      <td>1.487633</td>\n",
       "      <td>601.003540</td>\n",
       "    </tr>\n",
       "    <tr>\n",
       "      <th>3</th>\n",
       "      <td>Región de Los Ríos</td>\n",
       "      <td>Paillaco</td>\n",
       "      <td>19802.0</td>\n",
       "      <td>1.341622</td>\n",
       "      <td>1080.005737</td>\n",
       "    </tr>\n",
       "    <tr>\n",
       "      <th>4</th>\n",
       "      <td>Región de Los Ríos</td>\n",
       "      <td>Lanco</td>\n",
       "      <td>16876.0</td>\n",
       "      <td>1.627810</td>\n",
       "      <td>885.528503</td>\n",
       "    </tr>\n",
       "  </tbody>\n",
       "</table>\n",
       "</div>"
      ],
      "text/plain": [
       "               Region     Comuna  poblacion  viirs_mean    viirs_sum\n",
       "0  Región de Los Ríos   La Unión    38907.0    2.047876  2422.637695\n",
       "1  Región de Los Ríos  Los Lagos    21431.0    1.479096  1042.762329\n",
       "2  Región de Los Ríos      Máfil     8074.0    1.487633   601.003540\n",
       "3  Región de Los Ríos   Paillaco    19802.0    1.341622  1080.005737\n",
       "4  Región de Los Ríos      Lanco    16876.0    1.627810   885.528503"
      ]
     },
     "execution_count": 151,
     "metadata": {},
     "output_type": "execute_result"
    }
   ],
   "source": [
    "stats = zonal_stats(\n",
    "    gdf_poblacion,\n",
    "    ruta_raster,\n",
    "    stats=['mean', 'sum'],\n",
    "    nodata=0,            # ajust raster\n",
    "    geojson_out=False\n",
    ")\n",
    "# Añade a la capa comunal\n",
    "gdf_poblacion['viirs_mean'] = [s['mean'] for s in stats]\n",
    "gdf_poblacion['viirs_sum']  = [s['sum']  for s in stats]\n",
    "\n",
    "# 3) DataFrame con las columnas\n",
    "gdf_poblacion = gdf_poblacion.rename(columns={'Población censada': 'poblacion'})\n",
    "df_viirs = gdf_poblacion[['Region', 'Comuna', 'poblacion', 'viirs_mean', 'viirs_sum']].copy()\n",
    "\n",
    "# Filtrar a Región de Los Ríos\n",
    "df_los_rios = df_viirs[df_viirs['Region'].str.contains('Ríos', case=False, na=False)].reset_index(drop=True)\n",
    "df_los_rios.head()"
   ]
  },
  {
   "cell_type": "code",
   "execution_count": null,
   "id": "f9c612e3",
   "metadata": {},
   "outputs": [
    {
     "data": {
      "image/png": "[encoded data removed]",
      "text/plain": [
       "<Figure size 600x500 with 1 Axes>"
      ]
     },
     "metadata": {},
     "output_type": "display_data"
    }
   ],
   "source": [
    "# Carpetas de salida \n",
    "os.makedirs('../Reports/tables', exist_ok=True)\n",
    "os.makedirs('../Reports/figs',   exist_ok=True)\n",
    "\n",
    "# CSVs\n",
    "df_viirs.to_csv('../Reports/tables/viirs_por_comuna.csv', index=False, encoding='utf-8')\n",
    "df_los_rios.to_csv('../Reports/tables/viirs_por_comuna_los_rios.csv', index=False, encoding='utf-8')\n",
    "\n",
    "# Scatter: población vs viirs_sum (para Los Ríos)\n",
    "import matplotlib.pyplot as plt\n",
    "\n",
    "fig, ax = plt.subplots(figsize=(6, 5))\n",
    "ax.scatter(df_los_rios['poblacion'], df_los_rios['viirs_sum'], alpha=0.7)\n",
    "ax.set_xlabel('Población censada')\n",
    "ax.set_ylabel('VIIRS (suma)')\n",
    "ax.set_title('Los Ríos: Población vs. VIIRS (suma)')\n",
    "ax.grid(True, alpha=0.3)\n",
    "plt.tight_layout()\n",
    "plt.savefig('../Reports/figs/poblacion_vs_viirs_los_rios.png', dpi=300)\n",
    "plt.show()"
   ]
  },
  {
   "cell_type": "markdown",
   "id": "3a66896d",
   "metadata": {},
   "source": [
    "Parte 5 Analisis y visualizacion "
   ]
  },
  {
   "cell_type": "code",
   "execution_count": 154,
   "id": "11e5e420",
   "metadata": {},
   "outputs": [
    {
     "name": "stdout",
     "output_type": "stream",
     "text": [
      "n = 345\n",
      "Pearson: r = 0.782, p = 0.000\n",
      "Spearman: ρ = 0.804, p = 0.000\n"
     ]
    }
   ],
   "source": [
    "# Drop comunas sin datos\n",
    "df_corr = gdf_poblacion[['poblacion', 'viirs_mean', 'viirs_sum']].dropna()\n",
    "\n",
    "# Correlación Pearson\n",
    "pearson_corr, pearson_p = pearsonr(df_corr['poblacion'], df_corr['viirs_sum'])\n",
    "\n",
    "# Correlación Spearman\n",
    "spearman_corr, spearman_p = spearmanr(df_corr['poblacion'], df_corr['viirs_sum'])\n",
    "\n",
    "print(f\"n = {len(df_corr)}\")\n",
    "print(f\"Pearson: r = {pearson_corr:.3f}, p = {pearson_p:.3f}\")\n",
    "print(f\"Spearman: ρ = {spearman_corr:.3f}, p = {spearman_p:.3f}\")"
   ]
  },
  {
   "cell_type": "code",
   "execution_count": null,
   "id": "14078afd",
   "metadata": {},
   "outputs": [
    {
     "data": {
      "image/png": "[encoded data removed]",
      "text/plain": [
       "<Figure size 800x600 with 1 Axes>"
      ]
     },
     "metadata": {},
     "output_type": "display_data"
    }
   ],
   "source": [
    "fig, ax = plt.subplots(figsize=(8,6))\n",
    "\n",
    "sns.regplot(\n",
    "    data=df_corr,\n",
    "    x='poblacion',\n",
    "    y='viirs_sum',\n",
    "    ax=ax,\n",
    "    scatter_kws={'s':50, 'alpha':0.7},\n",
    "    line_kws={'color':'red'}\n",
    ")\n",
    "\n",
    "# Detectar outliers simples: \n",
    "residuos = df_corr['viirs_sum'] - (df_corr['poblacion'] * pearson_corr)\n",
    "outliers = df_corr.loc[residuos.abs().nlargest(3).index]\n",
    "\n",
    "# Etiquetas\n",
    "for idx, row in outliers.iterrows():\n",
    "    ax.text(row['poblacion'], row['viirs_sum'], str(idx), fontsize=9)\n",
    "\n",
    "ax.set_title(\"Relación Población vs Brillo VIIRS\")\n",
    "ax.set_xlabel(\"poblacion\")\n",
    "ax.set_ylabel(\"Brillo total VIIRS\")\n",
    "plt.show()"
   ]
  },
  {
   "cell_type": "code",
   "execution_count": 162,
   "id": "cced7d8c",
   "metadata": {},
   "outputs": [
    {
     "data": {
      "image/png": "[encoded data removed]",
      "text/plain": [
       "<Figure size 1400x600 with 2 Axes>"
      ]
     },
     "metadata": {},
     "output_type": "display_data"
    }
   ],
   "source": [
    "fig, axes = plt.subplots(1,2, figsize=(14,6))\n",
    "\n",
    "# Mapa población\n",
    "gdf_poblacion.plot(\n",
    "    column='poblacion',\n",
    "    cmap='Blues',\n",
    "    scheme='Quantiles',\n",
    "    k=5,\n",
    "    edgecolor=\"black\",\n",
    "    legend=True,\n",
    "    ax=axes[0]\n",
    ")\n",
    "axes[0].set_title(\"Mapa de Población\")\n",
    "\n",
    "# Mapa VIIRS (brillo total)\n",
    "gdf_poblacion.plot(\n",
    "    column='viirs_sum',\n",
    "    cmap='OrRd',\n",
    "    scheme='Quantiles',\n",
    "    k=5,\n",
    "    edgecolor=\"black\",\n",
    "    legend=True,\n",
    "    ax=axes[1]\n",
    ")\n",
    "axes[1].set_title(\"Mapa de Brillo VIIRS (Total)\")\n",
    "\n",
    "plt.tight_layout()\n",
    "plt.show()"
   ]
  }
 ],
 "metadata": {
  "kernelspec": {
   "display_name": ".venv",
   "language": "python",
   "name": "python3"
  },
  "language_info": {
   "codemirror_mode": {
    "name": "ipython",
    "version": 3
   },
   "file_extension": ".py",
   "mimetype": "text/x-python",
   "name": "python",
   "nbconvert_exporter": "python",
   "pygments_lexer": "ipython3",
   "version": "3.13.3"
  }
 },
 "nbformat": 4,
 "nbformat_minor": 5
}
